{
 "cells": [
  {
   "cell_type": "code",
   "execution_count": 42,
   "metadata": {},
   "outputs": [],
   "source": [
    "# 导入json模板\n",
    "import json\n",
    "import requests\n",
    "import pandas as pd\n",
    "from pandas.io.json import json_normalize"
   ]
  },
  {
   "cell_type": "code",
   "execution_count": 19,
   "metadata": {},
   "outputs": [],
   "source": [
    "KEY  = 'a59c765f49dc49a3865cf1eb676d268a'"
   ]
  },
  {
   "cell_type": "code",
   "execution_count": 20,
   "metadata": {},
   "outputs": [],
   "source": [
    "BASE_URL = \"https://eastus.api.cognitive.microsoft.com/face/v1.0/detect\""
   ]
  },
  {
   "cell_type": "markdown",
   "metadata": {},
   "source": [
    "# Microsoft API"
   ]
  },
  {
   "cell_type": "markdown",
   "metadata": {},
   "source": [
    "### 单人识别"
   ]
  },
  {
   "cell_type": "markdown",
   "metadata": {},
   "source": [
    "![单人](https://timgsa.baidu.com/timg?image&quality=80&size=b9999_10000&sec=1586760376071&di=a92923ea2800ddd6991a9692a200081b&imgtype=0&src=http%3A%2F%2Fp.store.itangyuan.com%2Fp%2Fbook%2Fcover%2FEg2t4BEWe_A%2FEg6tEgbS4B2veBbTetAVeGuBJgekeCwV9f.jpg)"
   ]
  },
  {
   "cell_type": "code",
   "execution_count": 34,
   "metadata": {},
   "outputs": [],
   "source": [
    "# 沿用API的示范代碼，{subscription key}用KEY代入\n",
    "HEADERS = {\n",
    "    # Request headers\n",
    "    'Content-Type': 'application/json',\n",
    "    'Ocp-Apim-Subscription-Key': '{}'.format(KEY), #''  \n",
    "}\n",
    "\n",
    "img_url = 'https://timgsa.baidu.com/timg?image&quality=80&size=b9999_10000&sec=1586760376071&di=a92923ea2800ddd6991a9692a200081b&imgtype=0&src=http%3A%2F%2Fp.store.itangyuan.com%2Fp%2Fbook%2Fcover%2FEg2t4BEWe_A%2FEg6tEgbS4B2veBbTetAVeGuBJgekeCwV9f.jpg'"
   ]
  },
  {
   "cell_type": "code",
   "execution_count": 35,
   "metadata": {},
   "outputs": [],
   "source": [
    "data = {\n",
    "    'url': '{}'.format(img_url),\n",
    "}\n",
    "payload = {\n",
    "    'returnFaceId': 'true',\n",
    "    'returnFaceLandmarks': 'flase',\n",
    "    'returnFaceAttributes': '{}'.format('age,gender,emotion'), \n",
    "}"
   ]
  },
  {
   "cell_type": "code",
   "execution_count": 36,
   "metadata": {},
   "outputs": [],
   "source": [
    "r = requests.post(BASE_URL,data=json.dumps(data),params=payload,headers = HEADERS)"
   ]
  },
  {
   "cell_type": "code",
   "execution_count": 37,
   "metadata": {},
   "outputs": [
    {
     "data": {
      "text/plain": [
       "200"
      ]
     },
     "execution_count": 37,
     "metadata": {},
     "output_type": "execute_result"
    }
   ],
   "source": [
    "r.status_code"
   ]
  },
  {
   "cell_type": "markdown",
   "metadata": {},
   "source": [
    "#### 笔记\n",
    "第一次运行时代码状态位404，与老师的代码进行对比之后，发现是BASE_URL的原因。不用将问号之后的参数都复制下来，只需要到detect就行了。"
   ]
  },
  {
   "cell_type": "code",
   "execution_count": 38,
   "metadata": {},
   "outputs": [
    {
     "data": {
      "text/plain": [
       "b'[{\"faceId\":\"fe833890-f394-4218-837a-26a3c525d426\",\"faceRectangle\":{\"top\":133,\"left\":209,\"width\":126,\"height\":126},\"faceAttributes\":{\"gender\":\"male\",\"age\":23.0,\"emotion\":{\"anger\":0.0,\"contempt\":0.001,\"disgust\":0.0,\"fear\":0.0,\"happiness\":0.0,\"neutral\":0.899,\"sadness\":0.1,\"surprise\":0.0}}}]'"
      ]
     },
     "execution_count": 38,
     "metadata": {},
     "output_type": "execute_result"
    }
   ],
   "source": [
    "r.content"
   ]
  },
  {
   "cell_type": "code",
   "execution_count": 39,
   "metadata": {
    "scrolled": true
   },
   "outputs": [
    {
     "data": {
      "text/plain": [
       "[{'faceId': 'fe833890-f394-4218-837a-26a3c525d426',\n",
       "  'faceRectangle': {'top': 133, 'left': 209, 'width': 126, 'height': 126},\n",
       "  'faceAttributes': {'gender': 'male',\n",
       "   'age': 23.0,\n",
       "   'emotion': {'anger': 0.0,\n",
       "    'contempt': 0.001,\n",
       "    'disgust': 0.0,\n",
       "    'fear': 0.0,\n",
       "    'happiness': 0.0,\n",
       "    'neutral': 0.899,\n",
       "    'sadness': 0.1,\n",
       "    'surprise': 0.0}}}]"
      ]
     },
     "execution_count": 39,
     "metadata": {},
     "output_type": "execute_result"
    }
   ],
   "source": [
    "results1 = r.json()\n",
    "results1"
   ]
  },
  {
   "cell_type": "code",
   "execution_count": 40,
   "metadata": {},
   "outputs": [],
   "source": [
    "df = pd.DataFrame(json_normalize(results1))"
   ]
  },
  {
   "cell_type": "code",
   "execution_count": 42,
   "metadata": {},
   "outputs": [
    {
     "data": {
      "text/html": [
       "<div>\n",
       "<style scoped>\n",
       "    .dataframe tbody tr th:only-of-type {\n",
       "        vertical-align: middle;\n",
       "    }\n",
       "\n",
       "    .dataframe tbody tr th {\n",
       "        vertical-align: top;\n",
       "    }\n",
       "\n",
       "    .dataframe thead th {\n",
       "        text-align: right;\n",
       "    }\n",
       "</style>\n",
       "<table border=\"1\" class=\"dataframe\">\n",
       "  <thead>\n",
       "    <tr style=\"text-align: right;\">\n",
       "      <th></th>\n",
       "      <th>faceAttributes.gender</th>\n",
       "      <th>faceAttributes.age</th>\n",
       "      <th>faceAttributes.emotion.anger</th>\n",
       "      <th>faceAttributes.emotion.contempt</th>\n",
       "      <th>faceAttributes.emotion.disgust</th>\n",
       "      <th>faceAttributes.emotion.fear</th>\n",
       "      <th>faceAttributes.emotion.happiness</th>\n",
       "      <th>faceAttributes.emotion.neutral</th>\n",
       "      <th>faceAttributes.emotion.sadness</th>\n",
       "      <th>faceAttributes.emotion.surprise</th>\n",
       "    </tr>\n",
       "  </thead>\n",
       "  <tbody>\n",
       "    <tr>\n",
       "      <td>0</td>\n",
       "      <td>male</td>\n",
       "      <td>23.0</td>\n",
       "      <td>0.0</td>\n",
       "      <td>0.001</td>\n",
       "      <td>0.0</td>\n",
       "      <td>0.0</td>\n",
       "      <td>0.0</td>\n",
       "      <td>0.899</td>\n",
       "      <td>0.1</td>\n",
       "      <td>0.0</td>\n",
       "    </tr>\n",
       "  </tbody>\n",
       "</table>\n",
       "</div>"
      ],
      "text/plain": [
       "  faceAttributes.gender  faceAttributes.age  faceAttributes.emotion.anger  \\\n",
       "0                  male                23.0                           0.0   \n",
       "\n",
       "   faceAttributes.emotion.contempt  faceAttributes.emotion.disgust  \\\n",
       "0                            0.001                             0.0   \n",
       "\n",
       "   faceAttributes.emotion.fear  faceAttributes.emotion.happiness  \\\n",
       "0                          0.0                               0.0   \n",
       "\n",
       "   faceAttributes.emotion.neutral  faceAttributes.emotion.sadness  \\\n",
       "0                           0.899                             0.1   \n",
       "\n",
       "   faceAttributes.emotion.surprise  \n",
       "0                              0.0  "
      ]
     },
     "execution_count": 42,
     "metadata": {},
     "output_type": "execute_result"
    }
   ],
   "source": [
    "df\n",
    "df_face_rectangle1 = df[['faceAttributes.gender','faceAttributes.age','faceAttributes.emotion.anger','faceAttributes.emotion.contempt','faceAttributes.emotion.disgust','faceAttributes.emotion.fear','faceAttributes.emotion.happiness','faceAttributes.emotion.neutral','faceAttributes.emotion.sadness','faceAttributes.emotion.surprise']]\n",
    "df_face_rectangle1"
   ]
  },
  {
   "cell_type": "markdown",
   "metadata": {},
   "source": [
    "### 多人识别（两个人）"
   ]
  },
  {
   "cell_type": "markdown",
   "metadata": {},
   "source": [
    "![多人识别](https://timgsa.baidu.com/timg?image&quality=80&size=b9999_10000&sec=1586762549279&di=fed54ee73f021200f9390387425ba730&imgtype=0&src=http%3A%2F%2Fpic1.win4000.com%2Fpic%2Fd%2F9f%2Ff3811620228.jpg)"
   ]
  },
  {
   "cell_type": "code",
   "execution_count": 43,
   "metadata": {},
   "outputs": [],
   "source": [
    "# 沿用API的示范代碼，{subscription key}用KEY代入\n",
    "HEADERS = {\n",
    "    # Request headers\n",
    "    'Content-Type': 'application/json',# 选择语言（json）\n",
    "    'Ocp-Apim-Subscription-Key': '{}'.format(KEY), #''  \n",
    "}\n",
    "\n",
    "img_url = 'https://timgsa.baidu.com/timg?image&quality=80&size=b9999_10000&sec=1586762549279&di=fed54ee73f021200f9390387425ba730&imgtype=0&src=http%3A%2F%2Fpic1.win4000.com%2Fpic%2Fd%2F9f%2Ff3811620228.jpg'"
   ]
  },
  {
   "cell_type": "code",
   "execution_count": 44,
   "metadata": {},
   "outputs": [],
   "source": [
    "# 存储为data\n",
    "data = {\n",
    "    'url': '{}'.format(img_url),\n",
    "}\n",
    "payload = {\n",
    "    'returnFaceAttributes': '{}'.format('age,gender,emotion'), \n",
    "}"
   ]
  },
  {
   "cell_type": "code",
   "execution_count": 46,
   "metadata": {},
   "outputs": [],
   "source": [
    "r = requests.post(BASE_URL,data=json.dumps(data),params=payload,headers = HEADERS)"
   ]
  },
  {
   "cell_type": "code",
   "execution_count": 47,
   "metadata": {},
   "outputs": [
    {
     "data": {
      "text/plain": [
       "200"
      ]
     },
     "execution_count": 47,
     "metadata": {},
     "output_type": "execute_result"
    }
   ],
   "source": [
    "r.status_code"
   ]
  },
  {
   "cell_type": "code",
   "execution_count": 48,
   "metadata": {},
   "outputs": [
    {
     "data": {
      "text/plain": [
       "[{'faceId': 'e50a3dfc-8ef0-4a57-a7d7-05164a9c3d52',\n",
       "  'faceRectangle': {'top': 157, 'left': 209, 'width': 130, 'height': 130},\n",
       "  'faceAttributes': {'gender': 'male',\n",
       "   'age': 23.0,\n",
       "   'emotion': {'anger': 0.0,\n",
       "    'contempt': 0.0,\n",
       "    'disgust': 0.0,\n",
       "    'fear': 0.0,\n",
       "    'happiness': 0.0,\n",
       "    'neutral': 0.656,\n",
       "    'sadness': 0.343,\n",
       "    'surprise': 0.0}}},\n",
       " {'faceId': 'a2a6b923-9d17-476e-86b4-c7ccdd92a12e',\n",
       "  'faceRectangle': {'top': 53, 'left': 474, 'width': 109, 'height': 109},\n",
       "  'faceAttributes': {'gender': 'female',\n",
       "   'age': 19.0,\n",
       "   'emotion': {'anger': 0.0,\n",
       "    'contempt': 0.0,\n",
       "    'disgust': 0.0,\n",
       "    'fear': 0.0,\n",
       "    'happiness': 0.0,\n",
       "    'neutral': 0.999,\n",
       "    'sadness': 0.001,\n",
       "    'surprise': 0.0}}}]"
      ]
     },
     "execution_count": 48,
     "metadata": {},
     "output_type": "execute_result"
    }
   ],
   "source": [
    "results = r.json()# 一定要加括号！！！\n",
    "results"
   ]
  },
  {
   "cell_type": "code",
   "execution_count": 49,
   "metadata": {},
   "outputs": [
    {
     "data": {
      "text/html": [
       "<div>\n",
       "<style scoped>\n",
       "    .dataframe tbody tr th:only-of-type {\n",
       "        vertical-align: middle;\n",
       "    }\n",
       "\n",
       "    .dataframe tbody tr th {\n",
       "        vertical-align: top;\n",
       "    }\n",
       "\n",
       "    .dataframe thead th {\n",
       "        text-align: right;\n",
       "    }\n",
       "</style>\n",
       "<table border=\"1\" class=\"dataframe\">\n",
       "  <thead>\n",
       "    <tr style=\"text-align: right;\">\n",
       "      <th></th>\n",
       "      <th>faceAttributes.gender</th>\n",
       "      <th>faceAttributes.age</th>\n",
       "      <th>faceAttributes.emotion.anger</th>\n",
       "      <th>faceAttributes.emotion.contempt</th>\n",
       "      <th>faceAttributes.emotion.disgust</th>\n",
       "      <th>faceAttributes.emotion.fear</th>\n",
       "      <th>faceAttributes.emotion.happiness</th>\n",
       "      <th>faceAttributes.emotion.neutral</th>\n",
       "      <th>faceAttributes.emotion.sadness</th>\n",
       "      <th>faceAttributes.emotion.surprise</th>\n",
       "    </tr>\n",
       "  </thead>\n",
       "  <tbody>\n",
       "    <tr>\n",
       "      <td>0</td>\n",
       "      <td>male</td>\n",
       "      <td>23.0</td>\n",
       "      <td>0.0</td>\n",
       "      <td>0.0</td>\n",
       "      <td>0.0</td>\n",
       "      <td>0.0</td>\n",
       "      <td>0.0</td>\n",
       "      <td>0.656</td>\n",
       "      <td>0.343</td>\n",
       "      <td>0.0</td>\n",
       "    </tr>\n",
       "    <tr>\n",
       "      <td>1</td>\n",
       "      <td>female</td>\n",
       "      <td>19.0</td>\n",
       "      <td>0.0</td>\n",
       "      <td>0.0</td>\n",
       "      <td>0.0</td>\n",
       "      <td>0.0</td>\n",
       "      <td>0.0</td>\n",
       "      <td>0.999</td>\n",
       "      <td>0.001</td>\n",
       "      <td>0.0</td>\n",
       "    </tr>\n",
       "  </tbody>\n",
       "</table>\n",
       "</div>"
      ],
      "text/plain": [
       "  faceAttributes.gender  faceAttributes.age  faceAttributes.emotion.anger  \\\n",
       "0                  male                23.0                           0.0   \n",
       "1                female                19.0                           0.0   \n",
       "\n",
       "   faceAttributes.emotion.contempt  faceAttributes.emotion.disgust  \\\n",
       "0                              0.0                             0.0   \n",
       "1                              0.0                             0.0   \n",
       "\n",
       "   faceAttributes.emotion.fear  faceAttributes.emotion.happiness  \\\n",
       "0                          0.0                               0.0   \n",
       "1                          0.0                               0.0   \n",
       "\n",
       "   faceAttributes.emotion.neutral  faceAttributes.emotion.sadness  \\\n",
       "0                           0.656                           0.343   \n",
       "1                           0.999                           0.001   \n",
       "\n",
       "   faceAttributes.emotion.surprise  \n",
       "0                              0.0  \n",
       "1                              0.0  "
      ]
     },
     "execution_count": 49,
     "metadata": {},
     "output_type": "execute_result"
    }
   ],
   "source": [
    "df = pd.DataFrame(json_normalize(results))\n",
    "df\n",
    "df_face_rectangle2 = df[['faceAttributes.gender','faceAttributes.age','faceAttributes.emotion.anger','faceAttributes.emotion.contempt','faceAttributes.emotion.disgust','faceAttributes.emotion.fear','faceAttributes.emotion.happiness','faceAttributes.emotion.neutral','faceAttributes.emotion.sadness','faceAttributes.emotion.surprise']]\n",
    "df_face_rectangle2"
   ]
  },
  {
   "cell_type": "markdown",
   "metadata": {},
   "source": [
    "## 多人识别2"
   ]
  },
  {
   "cell_type": "markdown",
   "metadata": {},
   "source": [
    " ![三人](https://timgsa.baidu.com/timg?image&quality=80&size=b9999_10000&sec=1586764577760&di=038e79e0a051989dd17ad11e065c449e&imgtype=0&src=http%3A%2F%2Fb-ssl.duitang.com%2Fuploads%2Fitem%2F201806%2F08%2F20180608194154_eapnx.jpg)"
   ]
  },
  {
   "cell_type": "code",
   "execution_count": null,
   "metadata": {},
   "outputs": [],
   "source": []
  },
  {
   "cell_type": "code",
   "execution_count": 50,
   "metadata": {},
   "outputs": [],
   "source": [
    "# 沿用API的示范代碼，{subscription key}用KEY代入\n",
    "HEADERS = {\n",
    "    # Request headers\n",
    "    'Content-Type': 'application/json',# 选择语言（json）\n",
    "    'Ocp-Apim-Subscription-Key': '{}'.format(KEY), #''  \n",
    "}\n",
    "\n",
    "img_url = 'https://timgsa.baidu.com/timg?image&quality=80&size=b9999_10000&sec=1586764577760&di=038e79e0a051989dd17ad11e065c449e&imgtype=0&src=http%3A%2F%2Fb-ssl.duitang.com%2Fuploads%2Fitem%2F201806%2F08%2F20180608194154_eapnx.jpg'"
   ]
  },
  {
   "cell_type": "code",
   "execution_count": 51,
   "metadata": {},
   "outputs": [],
   "source": [
    "# 存储为data\n",
    "data = {\n",
    "    'url': '{}'.format(img_url),\n",
    "}\n",
    "payload = {\n",
    "    'returnFaceAttributes': '{}'.format('age,gender,emotion'), \n",
    "}"
   ]
  },
  {
   "cell_type": "code",
   "execution_count": 52,
   "metadata": {},
   "outputs": [],
   "source": [
    "r = requests.post(BASE_URL,data=json.dumps(data),params=payload,headers = HEADERS)"
   ]
  },
  {
   "cell_type": "code",
   "execution_count": 53,
   "metadata": {},
   "outputs": [
    {
     "data": {
      "text/plain": [
       "200"
      ]
     },
     "execution_count": 53,
     "metadata": {},
     "output_type": "execute_result"
    }
   ],
   "source": [
    "r.status_code"
   ]
  },
  {
   "cell_type": "code",
   "execution_count": 54,
   "metadata": {},
   "outputs": [
    {
     "data": {
      "text/html": [
       "<div>\n",
       "<style scoped>\n",
       "    .dataframe tbody tr th:only-of-type {\n",
       "        vertical-align: middle;\n",
       "    }\n",
       "\n",
       "    .dataframe tbody tr th {\n",
       "        vertical-align: top;\n",
       "    }\n",
       "\n",
       "    .dataframe thead th {\n",
       "        text-align: right;\n",
       "    }\n",
       "</style>\n",
       "<table border=\"1\" class=\"dataframe\">\n",
       "  <thead>\n",
       "    <tr style=\"text-align: right;\">\n",
       "      <th></th>\n",
       "      <th>faceId</th>\n",
       "      <th>faceRectangle.top</th>\n",
       "      <th>faceRectangle.left</th>\n",
       "      <th>faceRectangle.width</th>\n",
       "      <th>faceRectangle.height</th>\n",
       "      <th>faceAttributes.gender</th>\n",
       "      <th>faceAttributes.age</th>\n",
       "      <th>faceAttributes.emotion.anger</th>\n",
       "      <th>faceAttributes.emotion.contempt</th>\n",
       "      <th>faceAttributes.emotion.disgust</th>\n",
       "      <th>faceAttributes.emotion.fear</th>\n",
       "      <th>faceAttributes.emotion.happiness</th>\n",
       "      <th>faceAttributes.emotion.neutral</th>\n",
       "      <th>faceAttributes.emotion.sadness</th>\n",
       "      <th>faceAttributes.emotion.surprise</th>\n",
       "    </tr>\n",
       "  </thead>\n",
       "  <tbody>\n",
       "    <tr>\n",
       "      <td>0</td>\n",
       "      <td>d5adc5f1-c552-4935-b8e9-e131dd216571</td>\n",
       "      <td>746</td>\n",
       "      <td>292</td>\n",
       "      <td>216</td>\n",
       "      <td>216</td>\n",
       "      <td>male</td>\n",
       "      <td>24.0</td>\n",
       "      <td>0.0</td>\n",
       "      <td>0.001</td>\n",
       "      <td>0.0</td>\n",
       "      <td>0.0</td>\n",
       "      <td>0.001</td>\n",
       "      <td>0.997</td>\n",
       "      <td>0.001</td>\n",
       "      <td>0.001</td>\n",
       "    </tr>\n",
       "    <tr>\n",
       "      <td>1</td>\n",
       "      <td>7f7fbb50-8ec4-403e-a39b-68afefd0c861</td>\n",
       "      <td>425</td>\n",
       "      <td>649</td>\n",
       "      <td>192</td>\n",
       "      <td>192</td>\n",
       "      <td>male</td>\n",
       "      <td>29.0</td>\n",
       "      <td>0.0</td>\n",
       "      <td>0.001</td>\n",
       "      <td>0.0</td>\n",
       "      <td>0.0</td>\n",
       "      <td>0.022</td>\n",
       "      <td>0.976</td>\n",
       "      <td>0.001</td>\n",
       "      <td>0.000</td>\n",
       "    </tr>\n",
       "    <tr>\n",
       "      <td>2</td>\n",
       "      <td>eadcffb6-af40-44b2-81fe-4ceb45b016f4</td>\n",
       "      <td>214</td>\n",
       "      <td>285</td>\n",
       "      <td>174</td>\n",
       "      <td>174</td>\n",
       "      <td>male</td>\n",
       "      <td>21.0</td>\n",
       "      <td>0.0</td>\n",
       "      <td>0.000</td>\n",
       "      <td>0.0</td>\n",
       "      <td>0.0</td>\n",
       "      <td>0.000</td>\n",
       "      <td>1.000</td>\n",
       "      <td>0.000</td>\n",
       "      <td>0.000</td>\n",
       "    </tr>\n",
       "  </tbody>\n",
       "</table>\n",
       "</div>"
      ],
      "text/plain": [
       "                                 faceId  faceRectangle.top  \\\n",
       "0  d5adc5f1-c552-4935-b8e9-e131dd216571                746   \n",
       "1  7f7fbb50-8ec4-403e-a39b-68afefd0c861                425   \n",
       "2  eadcffb6-af40-44b2-81fe-4ceb45b016f4                214   \n",
       "\n",
       "   faceRectangle.left  faceRectangle.width  faceRectangle.height  \\\n",
       "0                 292                  216                   216   \n",
       "1                 649                  192                   192   \n",
       "2                 285                  174                   174   \n",
       "\n",
       "  faceAttributes.gender  faceAttributes.age  faceAttributes.emotion.anger  \\\n",
       "0                  male                24.0                           0.0   \n",
       "1                  male                29.0                           0.0   \n",
       "2                  male                21.0                           0.0   \n",
       "\n",
       "   faceAttributes.emotion.contempt  faceAttributes.emotion.disgust  \\\n",
       "0                            0.001                             0.0   \n",
       "1                            0.001                             0.0   \n",
       "2                            0.000                             0.0   \n",
       "\n",
       "   faceAttributes.emotion.fear  faceAttributes.emotion.happiness  \\\n",
       "0                          0.0                             0.001   \n",
       "1                          0.0                             0.022   \n",
       "2                          0.0                             0.000   \n",
       "\n",
       "   faceAttributes.emotion.neutral  faceAttributes.emotion.sadness  \\\n",
       "0                           0.997                           0.001   \n",
       "1                           0.976                           0.001   \n",
       "2                           1.000                           0.000   \n",
       "\n",
       "   faceAttributes.emotion.surprise  \n",
       "0                            0.001  \n",
       "1                            0.000  \n",
       "2                            0.000  "
      ]
     },
     "execution_count": 54,
     "metadata": {},
     "output_type": "execute_result"
    }
   ],
   "source": [
    "results = r.json()# 一定要加括号！！！\n",
    "results\n",
    "df = pd.DataFrame(json_normalize(results))\n",
    "df"
   ]
  },
  {
   "cell_type": "code",
   "execution_count": 55,
   "metadata": {},
   "outputs": [
    {
     "data": {
      "text/html": [
       "<div>\n",
       "<style scoped>\n",
       "    .dataframe tbody tr th:only-of-type {\n",
       "        vertical-align: middle;\n",
       "    }\n",
       "\n",
       "    .dataframe tbody tr th {\n",
       "        vertical-align: top;\n",
       "    }\n",
       "\n",
       "    .dataframe thead th {\n",
       "        text-align: right;\n",
       "    }\n",
       "</style>\n",
       "<table border=\"1\" class=\"dataframe\">\n",
       "  <thead>\n",
       "    <tr style=\"text-align: right;\">\n",
       "      <th></th>\n",
       "      <th>faceAttributes.gender</th>\n",
       "      <th>faceAttributes.age</th>\n",
       "      <th>faceAttributes.emotion.anger</th>\n",
       "      <th>faceAttributes.emotion.contempt</th>\n",
       "      <th>faceAttributes.emotion.disgust</th>\n",
       "      <th>faceAttributes.emotion.fear</th>\n",
       "      <th>faceAttributes.emotion.happiness</th>\n",
       "      <th>faceAttributes.emotion.neutral</th>\n",
       "      <th>faceAttributes.emotion.sadness</th>\n",
       "      <th>faceAttributes.emotion.surprise</th>\n",
       "    </tr>\n",
       "  </thead>\n",
       "  <tbody>\n",
       "    <tr>\n",
       "      <td>0</td>\n",
       "      <td>male</td>\n",
       "      <td>24.0</td>\n",
       "      <td>0.0</td>\n",
       "      <td>0.001</td>\n",
       "      <td>0.0</td>\n",
       "      <td>0.0</td>\n",
       "      <td>0.001</td>\n",
       "      <td>0.997</td>\n",
       "      <td>0.001</td>\n",
       "      <td>0.001</td>\n",
       "    </tr>\n",
       "    <tr>\n",
       "      <td>1</td>\n",
       "      <td>male</td>\n",
       "      <td>29.0</td>\n",
       "      <td>0.0</td>\n",
       "      <td>0.001</td>\n",
       "      <td>0.0</td>\n",
       "      <td>0.0</td>\n",
       "      <td>0.022</td>\n",
       "      <td>0.976</td>\n",
       "      <td>0.001</td>\n",
       "      <td>0.000</td>\n",
       "    </tr>\n",
       "    <tr>\n",
       "      <td>2</td>\n",
       "      <td>male</td>\n",
       "      <td>21.0</td>\n",
       "      <td>0.0</td>\n",
       "      <td>0.000</td>\n",
       "      <td>0.0</td>\n",
       "      <td>0.0</td>\n",
       "      <td>0.000</td>\n",
       "      <td>1.000</td>\n",
       "      <td>0.000</td>\n",
       "      <td>0.000</td>\n",
       "    </tr>\n",
       "  </tbody>\n",
       "</table>\n",
       "</div>"
      ],
      "text/plain": [
       "  faceAttributes.gender  faceAttributes.age  faceAttributes.emotion.anger  \\\n",
       "0                  male                24.0                           0.0   \n",
       "1                  male                29.0                           0.0   \n",
       "2                  male                21.0                           0.0   \n",
       "\n",
       "   faceAttributes.emotion.contempt  faceAttributes.emotion.disgust  \\\n",
       "0                            0.001                             0.0   \n",
       "1                            0.001                             0.0   \n",
       "2                            0.000                             0.0   \n",
       "\n",
       "   faceAttributes.emotion.fear  faceAttributes.emotion.happiness  \\\n",
       "0                          0.0                             0.001   \n",
       "1                          0.0                             0.022   \n",
       "2                          0.0                             0.000   \n",
       "\n",
       "   faceAttributes.emotion.neutral  faceAttributes.emotion.sadness  \\\n",
       "0                           0.997                           0.001   \n",
       "1                           0.976                           0.001   \n",
       "2                           1.000                           0.000   \n",
       "\n",
       "   faceAttributes.emotion.surprise  \n",
       "0                            0.001  \n",
       "1                            0.000  \n",
       "2                            0.000  "
      ]
     },
     "execution_count": 55,
     "metadata": {},
     "output_type": "execute_result"
    }
   ],
   "source": [
    "# 只提取性别年龄情绪\n",
    "df_face_rectangle3 = df[['faceAttributes.gender','faceAttributes.age','faceAttributes.emotion.anger','faceAttributes.emotion.contempt','faceAttributes.emotion.disgust','faceAttributes.emotion.fear','faceAttributes.emotion.happiness','faceAttributes.emotion.neutral','faceAttributes.emotion.sadness','faceAttributes.emotion.surprise']]\n",
    "df_face_rectangle3"
   ]
  },
  {
   "cell_type": "markdown",
   "metadata": {},
   "source": [
    "## Face++"
   ]
  },
  {
   "cell_type": "code",
   "execution_count": 57,
   "metadata": {},
   "outputs": [],
   "source": [
    "api_secret = \"8HaBNIo_WUvY3cL42BQ2nmwIiv1aCrbZ\"\n",
    "# 输入我们API_Key\n",
    "api_key = '1t6i1eyNujE2E9lY80jU7Q_zlC2fEOzf'  # Replace with a valid Subscription Key here.\n",
    "\n",
    "\n",
    "# 3、目标url\n",
    "# 这里也可以使用本地图片 例如：filepath =\"image/tupian.jpg\"\n",
    "BASE_URL = 'https://api-cn.faceplusplus.com/facepp/v3/detect' \n",
    "img_url = 'https://timgsa.baidu.com/timg?image&quality=80&size=b9999_10000&sec=1586760376071&di=a92923ea2800ddd6991a9692a200081b&imgtype=0&src=http%3A%2F%2Fp.store.itangyuan.com%2Fp%2Fbook%2Fcover%2FEg2t4BEWe_A%2FEg6tEgbS4B2veBbTetAVeGuBJgekeCwV9f.jpg'\n",
    "\n",
    "# 4、沿用API文档的示范代码,准备我们的headers和图片(数据)\n",
    "\n",
    "headers = {\n",
    "    'Content-Type': 'application/json',\n",
    "}\n",
    "\n",
    "# 5、准备symbol ? 后面的数据\n",
    "\n",
    "payload = {\n",
    "    \"image_url\":img_url,\n",
    "    'api_key': api_key,\n",
    "    'api_secret': api_secret,\n",
    "    'return_attributes':'gender,age,smiling,emotion', \n",
    "}"
   ]
  },
  {
   "cell_type": "code",
   "execution_count": 59,
   "metadata": {},
   "outputs": [],
   "source": [
    "#  requests发送我们请求\n",
    "r = requests.post(BASE_URL, params=payload, headers=headers)"
   ]
  },
  {
   "cell_type": "code",
   "execution_count": 96,
   "metadata": {},
   "outputs": [
    {
     "data": {
      "text/plain": [
       "200"
      ]
     },
     "execution_count": 96,
     "metadata": {},
     "output_type": "execute_result"
    }
   ],
   "source": [
    "r.status_code"
   ]
  },
  {
   "cell_type": "code",
   "execution_count": 97,
   "metadata": {},
   "outputs": [
    {
     "data": {
      "text/plain": [
       "b'{\"request_id\":\"1586787317,bfbfddd6-7f7d-4e84-a91b-af6ec826b801\",\"time_used\":86,\"faces\":[{\"face_token\":\"cea0f952edad9720f218a30ed376b37b\",\"face_rectangle\":{\"top\":131,\"left\":227,\"width\":129,\"height\":129},\"attributes\":{\"gender\":{\"value\":\"Male\"},\"age\":{\"value\":21},\"smile\":{\"value\":0.019,\"threshold\":50.000},\"emotion\":{\"anger\":0.001,\"disgust\":0.001,\"fear\":0.001,\"happiness\":0.009,\"neutral\":99.965,\"sadness\":0.022,\"surprise\":0.002}}}],\"image_id\":\"hUidk7hV8VfrFfdSzqECDA==\",\"face_num\":1}\\n'"
      ]
     },
     "execution_count": 97,
     "metadata": {},
     "output_type": "execute_result"
    }
   ],
   "source": [
    "r.content"
   ]
  },
  {
   "cell_type": "code",
   "execution_count": 74,
   "metadata": {},
   "outputs": [
    {
     "data": {
      "text/plain": [
       "{'request_id': '1586787317,bfbfddd6-7f7d-4e84-a91b-af6ec826b801',\n",
       " 'time_used': 86,\n",
       " 'faces': [{'face_token': 'cea0f952edad9720f218a30ed376b37b',\n",
       "   'face_rectangle': {'top': 131, 'left': 227, 'width': 129, 'height': 129},\n",
       "   'attributes': {'gender': {'value': 'Male'},\n",
       "    'age': {'value': 21},\n",
       "    'smile': {'value': 0.019, 'threshold': 50.0},\n",
       "    'emotion': {'anger': 0.001,\n",
       "     'disgust': 0.001,\n",
       "     'fear': 0.001,\n",
       "     'happiness': 0.009,\n",
       "     'neutral': 99.965,\n",
       "     'sadness': 0.022,\n",
       "     'surprise': 0.002}}}],\n",
       " 'image_id': 'hUidk7hV8VfrFfdSzqECDA==',\n",
       " 'face_num': 1}"
      ]
     },
     "execution_count": 74,
     "metadata": {},
     "output_type": "execute_result"
    }
   ],
   "source": [
    "result = r.json()\n",
    "result"
   ]
  },
  {
   "cell_type": "code",
   "execution_count": 127,
   "metadata": {},
   "outputs": [
    {
     "data": {
      "text/html": [
       "<div>\n",
       "<style scoped>\n",
       "    .dataframe tbody tr th:only-of-type {\n",
       "        vertical-align: middle;\n",
       "    }\n",
       "\n",
       "    .dataframe tbody tr th {\n",
       "        vertical-align: top;\n",
       "    }\n",
       "\n",
       "    .dataframe thead th {\n",
       "        text-align: right;\n",
       "    }\n",
       "</style>\n",
       "<table border=\"1\" class=\"dataframe\">\n",
       "  <thead>\n",
       "    <tr style=\"text-align: right;\">\n",
       "      <th></th>\n",
       "      <th>attributes.gender.value</th>\n",
       "      <th>attributes.age.value</th>\n",
       "      <th>attributes.smile.value</th>\n",
       "      <th>attributes.smile.threshold</th>\n",
       "      <th>attributes.emotion.anger</th>\n",
       "      <th>attributes.emotion.disgust</th>\n",
       "      <th>attributes.emotion.fear</th>\n",
       "      <th>attributes.emotion.happiness</th>\n",
       "      <th>attributes.emotion.neutral</th>\n",
       "      <th>attributes.emotion.sadness</th>\n",
       "      <th>attributes.emotion.surprise</th>\n",
       "    </tr>\n",
       "  </thead>\n",
       "  <tbody>\n",
       "    <tr>\n",
       "      <td>0</td>\n",
       "      <td>Male</td>\n",
       "      <td>21</td>\n",
       "      <td>0.019</td>\n",
       "      <td>50.0</td>\n",
       "      <td>0.001</td>\n",
       "      <td>0.001</td>\n",
       "      <td>0.001</td>\n",
       "      <td>0.009</td>\n",
       "      <td>99.965</td>\n",
       "      <td>0.022</td>\n",
       "      <td>0.002</td>\n",
       "    </tr>\n",
       "  </tbody>\n",
       "</table>\n",
       "</div>"
      ],
      "text/plain": [
       "  attributes.gender.value  attributes.age.value  attributes.smile.value  \\\n",
       "0                    Male                    21                   0.019   \n",
       "\n",
       "   attributes.smile.threshold  attributes.emotion.anger  \\\n",
       "0                        50.0                     0.001   \n",
       "\n",
       "   attributes.emotion.disgust  attributes.emotion.fear  \\\n",
       "0                       0.001                    0.001   \n",
       "\n",
       "   attributes.emotion.happiness  attributes.emotion.neutral  \\\n",
       "0                         0.009                      99.965   \n",
       "\n",
       "   attributes.emotion.sadness  attributes.emotion.surprise  \n",
       "0                       0.022                        0.002  "
      ]
     },
     "execution_count": 127,
     "metadata": {},
     "output_type": "execute_result"
    }
   ],
   "source": [
    "df = pd.DataFrame(json_normalize(result,\"faces\"))\n",
    "t = df[['attributes.gender.value','attributes.age.value','attributes.smile.value','attributes.smile.threshold','attributes.emotion.anger','attributes.emotion.disgust','attributes.emotion.fear','attributes.emotion.happiness','attributes.emotion.neutral','attributes.emotion.sadness','attributes.emotion.surprise']]\n",
    "t"
   ]
  },
  {
   "cell_type": "markdown",
   "metadata": {},
   "source": [
    "### 多人识别（两人）"
   ]
  },
  {
   "cell_type": "code",
   "execution_count": 133,
   "metadata": {},
   "outputs": [],
   "source": [
    "api_secret = \"8HaBNIo_WUvY3cL42BQ2nmwIiv1aCrbZ\"\n",
    "# 输入我们API_Key\n",
    "api_key = '1t6i1eyNujE2E9lY80jU7Q_zlC2fEOzf'  # Replace with a valid Subscription Key here.\n",
    "\n",
    "\n",
    "# 3、目标url\n",
    "# 这里也可以使用本地图片 例如：filepath =\"image/tupian.jpg\"\n",
    "BASE_URL = 'https://api-cn.faceplusplus.com/facepp/v3/detect' \n",
    "img_url = 'https://timgsa.baidu.com/timg?image&quality=80&size=b9999_10000&sec=1586762549279&di=fed54ee73f021200f9390387425ba730&imgtype=0&src=http%3A%2F%2Fpic1.win4000.com%2Fpic%2Fd%2F9f%2Ff3811620228.jpg'\n",
    "\n",
    "# 4、沿用API文档的示范代码,准备我们的headers和图片(数据)\n",
    "\n",
    "headers = {\n",
    "    'Content-Type': 'application/json',\n",
    "}\n",
    "\n",
    "# 5、准备symbol ? 后面的数据\n",
    "\n",
    "payload = {\n",
    "    \"image_url\":img_url,\n",
    "    'api_key': api_key,\n",
    "    'api_secret': api_secret,\n",
    "    'return_attributes':'gender,age,smiling,emotion', \n",
    "}"
   ]
  },
  {
   "cell_type": "code",
   "execution_count": 135,
   "metadata": {},
   "outputs": [],
   "source": [
    "r = requests.post(BASE_URL, params=payload, headers=headers)"
   ]
  },
  {
   "cell_type": "code",
   "execution_count": 137,
   "metadata": {},
   "outputs": [
    {
     "data": {
      "text/plain": [
       "200"
      ]
     },
     "execution_count": 137,
     "metadata": {},
     "output_type": "execute_result"
    }
   ],
   "source": [
    "r.status_code"
   ]
  },
  {
   "cell_type": "code",
   "execution_count": 139,
   "metadata": {},
   "outputs": [
    {
     "data": {
      "text/plain": [
       "{'request_id': '1586792883,b421dd40-bbd0-4873-a07d-8f248640b5c6',\n",
       " 'time_used': 124,\n",
       " 'faces': [{'face_token': '5f2b303d99151e4f421000d351741ae6',\n",
       "   'face_rectangle': {'top': 165, 'left': 221, 'width': 121, 'height': 121},\n",
       "   'attributes': {'gender': {'value': 'Male'},\n",
       "    'age': {'value': 23},\n",
       "    'smile': {'value': 0.001, 'threshold': 50.0},\n",
       "    'emotion': {'anger': 0.016,\n",
       "     'disgust': 0.016,\n",
       "     'fear': 9.881,\n",
       "     'happiness': 0.016,\n",
       "     'neutral': 43.932,\n",
       "     'sadness': 45.924,\n",
       "     'surprise': 0.214}}},\n",
       "  {'face_token': 'c4cff0cc891095adbbed17b50875fdc4',\n",
       "   'face_rectangle': {'top': 60, 'left': 471, 'width': 112, 'height': 112},\n",
       "   'attributes': {'gender': {'value': 'Female'},\n",
       "    'age': {'value': 18},\n",
       "    'smile': {'value': 0.016, 'threshold': 50.0},\n",
       "    'emotion': {'anger': 0.0,\n",
       "     'disgust': 0.006,\n",
       "     'fear': 0.0,\n",
       "     'happiness': 0.001,\n",
       "     'neutral': 99.983,\n",
       "     'sadness': 0.005,\n",
       "     'surprise': 0.004}}}],\n",
       " 'image_id': 'Jv1DMc3Wvv0xfbKWlrUkEg==',\n",
       " 'face_num': 2}"
      ]
     },
     "execution_count": 139,
     "metadata": {},
     "output_type": "execute_result"
    }
   ],
   "source": [
    "result = r.json()\n",
    "result"
   ]
  },
  {
   "cell_type": "code",
   "execution_count": 141,
   "metadata": {},
   "outputs": [
    {
     "data": {
      "text/html": [
       "<div>\n",
       "<style scoped>\n",
       "    .dataframe tbody tr th:only-of-type {\n",
       "        vertical-align: middle;\n",
       "    }\n",
       "\n",
       "    .dataframe tbody tr th {\n",
       "        vertical-align: top;\n",
       "    }\n",
       "\n",
       "    .dataframe thead th {\n",
       "        text-align: right;\n",
       "    }\n",
       "</style>\n",
       "<table border=\"1\" class=\"dataframe\">\n",
       "  <thead>\n",
       "    <tr style=\"text-align: right;\">\n",
       "      <th></th>\n",
       "      <th>attributes.gender.value</th>\n",
       "      <th>attributes.age.value</th>\n",
       "      <th>attributes.smile.value</th>\n",
       "      <th>attributes.smile.threshold</th>\n",
       "      <th>attributes.emotion.anger</th>\n",
       "      <th>attributes.emotion.disgust</th>\n",
       "      <th>attributes.emotion.fear</th>\n",
       "      <th>attributes.emotion.happiness</th>\n",
       "      <th>attributes.emotion.neutral</th>\n",
       "      <th>attributes.emotion.sadness</th>\n",
       "      <th>attributes.emotion.surprise</th>\n",
       "    </tr>\n",
       "  </thead>\n",
       "  <tbody>\n",
       "    <tr>\n",
       "      <td>0</td>\n",
       "      <td>Male</td>\n",
       "      <td>23</td>\n",
       "      <td>0.001</td>\n",
       "      <td>50.0</td>\n",
       "      <td>0.016</td>\n",
       "      <td>0.016</td>\n",
       "      <td>9.881</td>\n",
       "      <td>0.016</td>\n",
       "      <td>43.932</td>\n",
       "      <td>45.924</td>\n",
       "      <td>0.214</td>\n",
       "    </tr>\n",
       "    <tr>\n",
       "      <td>1</td>\n",
       "      <td>Female</td>\n",
       "      <td>18</td>\n",
       "      <td>0.016</td>\n",
       "      <td>50.0</td>\n",
       "      <td>0.000</td>\n",
       "      <td>0.006</td>\n",
       "      <td>0.000</td>\n",
       "      <td>0.001</td>\n",
       "      <td>99.983</td>\n",
       "      <td>0.005</td>\n",
       "      <td>0.004</td>\n",
       "    </tr>\n",
       "  </tbody>\n",
       "</table>\n",
       "</div>"
      ],
      "text/plain": [
       "  attributes.gender.value  attributes.age.value  attributes.smile.value  \\\n",
       "0                    Male                    23                   0.001   \n",
       "1                  Female                    18                   0.016   \n",
       "\n",
       "   attributes.smile.threshold  attributes.emotion.anger  \\\n",
       "0                        50.0                     0.016   \n",
       "1                        50.0                     0.000   \n",
       "\n",
       "   attributes.emotion.disgust  attributes.emotion.fear  \\\n",
       "0                       0.016                    9.881   \n",
       "1                       0.006                    0.000   \n",
       "\n",
       "   attributes.emotion.happiness  attributes.emotion.neutral  \\\n",
       "0                         0.016                      43.932   \n",
       "1                         0.001                      99.983   \n",
       "\n",
       "   attributes.emotion.sadness  attributes.emotion.surprise  \n",
       "0                      45.924                        0.214  \n",
       "1                       0.005                        0.004  "
      ]
     },
     "execution_count": 141,
     "metadata": {},
     "output_type": "execute_result"
    }
   ],
   "source": [
    "df = pd.DataFrame(json_normalize(result,\"faces\"))\n",
    "l = df[['attributes.gender.value','attributes.age.value','attributes.smile.value','attributes.smile.threshold','attributes.emotion.anger','attributes.emotion.disgust','attributes.emotion.fear','attributes.emotion.happiness','attributes.emotion.neutral','attributes.emotion.sadness','attributes.emotion.surprise']]\n",
    "l"
   ]
  },
  {
   "cell_type": "markdown",
   "metadata": {},
   "source": [
    "### 多人识别（三个人）"
   ]
  },
  {
   "cell_type": "code",
   "execution_count": 153,
   "metadata": {},
   "outputs": [],
   "source": [
    "api_secret = \"8HaBNIo_WUvY3cL42BQ2nmwIiv1aCrbZ\"\n",
    "\n",
    "api_key = '1t6i1eyNujE2E9lY80jU7Q_zlC2fEOzf'  # Replace with a valid Subscription Key here.\n",
    "\n",
    "BASE_URL = 'https://api-cn.faceplusplus.com/facepp/v3/detect' \n",
    "img_url = 'https://timgsa.baidu.com/timg?image&quality=80&size=b9999_10000&sec=1586764577760&di=038e79e0a051989dd17ad11e065c449e&imgtype=0&src=http%3A%2F%2Fb-ssl.duitang.com%2Fuploads%2Fitem%2F201806%2F08%2F20180608194154_eapnx.jpg'\n",
    "\n",
    "headers = {\n",
    "    'Content-Type': 'application/json',\n",
    "}\n",
    "\n",
    "payload = {\n",
    "    \"image_url\":img_url,\n",
    "    'api_key': api_key,\n",
    "    'api_secret': api_secret,\n",
    "    'return_attributes':'gender,age,smiling,emotion', \n",
    "}"
   ]
  },
  {
   "cell_type": "code",
   "execution_count": 154,
   "metadata": {},
   "outputs": [],
   "source": [
    "r = requests.post(BASE_URL, params=payload, headers=HEADERS)"
   ]
  },
  {
   "cell_type": "code",
   "execution_count": 155,
   "metadata": {},
   "outputs": [
    {
     "data": {
      "text/plain": [
       "200"
      ]
     },
     "execution_count": 155,
     "metadata": {},
     "output_type": "execute_result"
    }
   ],
   "source": [
    "r.status_code"
   ]
  },
  {
   "cell_type": "code",
   "execution_count": 156,
   "metadata": {},
   "outputs": [
    {
     "data": {
      "text/plain": [
       "{'request_id': '1586794124,a5463bb3-2e82-4723-925c-8916024f86f5',\n",
       " 'time_used': 538,\n",
       " 'faces': [{'face_token': '789d64ccd87d3f762a5530be2bf724b2',\n",
       "   'face_rectangle': {'top': 752, 'left': 282, 'width': 197, 'height': 197},\n",
       "   'attributes': {'gender': {'value': 'Male'},\n",
       "    'age': {'value': 20},\n",
       "    'smile': {'value': 0.967, 'threshold': 50.0},\n",
       "    'emotion': {'anger': 0.003,\n",
       "     'disgust': 0.001,\n",
       "     'fear': 0.001,\n",
       "     'happiness': 0.001,\n",
       "     'neutral': 99.981,\n",
       "     'sadness': 0.012,\n",
       "     'surprise': 0.001}}},\n",
       "  {'face_token': '3ee5eb6a4eb2dbc7fc8a73af4362b3a8',\n",
       "   'face_rectangle': {'top': 434, 'left': 680, 'width': 185, 'height': 185},\n",
       "   'attributes': {'gender': {'value': 'Female'},\n",
       "    'age': {'value': 27},\n",
       "    'smile': {'value': 6.483, 'threshold': 50.0},\n",
       "    'emotion': {'anger': 0.083,\n",
       "     'disgust': 0.083,\n",
       "     'fear': 10.519,\n",
       "     'happiness': 1.535,\n",
       "     'neutral': 85.289,\n",
       "     'sadness': 2.174,\n",
       "     'surprise': 0.318}}},\n",
       "  {'face_token': '2bd6720a8f53834f63300cbeee9ade0a',\n",
       "   'face_rectangle': {'top': 232, 'left': 298, 'width': 170, 'height': 170},\n",
       "   'attributes': {'gender': {'value': 'Male'},\n",
       "    'age': {'value': 24},\n",
       "    'smile': {'value': 0.023, 'threshold': 50.0},\n",
       "    'emotion': {'anger': 0.011,\n",
       "     'disgust': 0.003,\n",
       "     'fear': 0.008,\n",
       "     'happiness': 0.009,\n",
       "     'neutral': 99.953,\n",
       "     'sadness': 0.003,\n",
       "     'surprise': 0.014}}}],\n",
       " 'image_id': '63gH74ENpCEspnTGI2Bi7Q==',\n",
       " 'face_num': 3}"
      ]
     },
     "execution_count": 156,
     "metadata": {},
     "output_type": "execute_result"
    }
   ],
   "source": [
    "result = r.json()\n",
    "result"
   ]
  },
  {
   "cell_type": "code",
   "execution_count": 158,
   "metadata": {},
   "outputs": [
    {
     "data": {
      "text/html": [
       "<div>\n",
       "<style scoped>\n",
       "    .dataframe tbody tr th:only-of-type {\n",
       "        vertical-align: middle;\n",
       "    }\n",
       "\n",
       "    .dataframe tbody tr th {\n",
       "        vertical-align: top;\n",
       "    }\n",
       "\n",
       "    .dataframe thead th {\n",
       "        text-align: right;\n",
       "    }\n",
       "</style>\n",
       "<table border=\"1\" class=\"dataframe\">\n",
       "  <thead>\n",
       "    <tr style=\"text-align: right;\">\n",
       "      <th></th>\n",
       "      <th>attributes.gender.value</th>\n",
       "      <th>attributes.age.value</th>\n",
       "      <th>attributes.smile.value</th>\n",
       "      <th>attributes.smile.threshold</th>\n",
       "      <th>attributes.emotion.anger</th>\n",
       "      <th>attributes.emotion.disgust</th>\n",
       "      <th>attributes.emotion.fear</th>\n",
       "      <th>attributes.emotion.happiness</th>\n",
       "      <th>attributes.emotion.neutral</th>\n",
       "      <th>attributes.emotion.sadness</th>\n",
       "      <th>attributes.emotion.surprise</th>\n",
       "    </tr>\n",
       "  </thead>\n",
       "  <tbody>\n",
       "    <tr>\n",
       "      <td>0</td>\n",
       "      <td>Male</td>\n",
       "      <td>20</td>\n",
       "      <td>0.967</td>\n",
       "      <td>50.0</td>\n",
       "      <td>0.003</td>\n",
       "      <td>0.001</td>\n",
       "      <td>0.001</td>\n",
       "      <td>0.001</td>\n",
       "      <td>99.981</td>\n",
       "      <td>0.012</td>\n",
       "      <td>0.001</td>\n",
       "    </tr>\n",
       "    <tr>\n",
       "      <td>1</td>\n",
       "      <td>Female</td>\n",
       "      <td>27</td>\n",
       "      <td>6.483</td>\n",
       "      <td>50.0</td>\n",
       "      <td>0.083</td>\n",
       "      <td>0.083</td>\n",
       "      <td>10.519</td>\n",
       "      <td>1.535</td>\n",
       "      <td>85.289</td>\n",
       "      <td>2.174</td>\n",
       "      <td>0.318</td>\n",
       "    </tr>\n",
       "    <tr>\n",
       "      <td>2</td>\n",
       "      <td>Male</td>\n",
       "      <td>24</td>\n",
       "      <td>0.023</td>\n",
       "      <td>50.0</td>\n",
       "      <td>0.011</td>\n",
       "      <td>0.003</td>\n",
       "      <td>0.008</td>\n",
       "      <td>0.009</td>\n",
       "      <td>99.953</td>\n",
       "      <td>0.003</td>\n",
       "      <td>0.014</td>\n",
       "    </tr>\n",
       "  </tbody>\n",
       "</table>\n",
       "</div>"
      ],
      "text/plain": [
       "  attributes.gender.value  attributes.age.value  attributes.smile.value  \\\n",
       "0                    Male                    20                   0.967   \n",
       "1                  Female                    27                   6.483   \n",
       "2                    Male                    24                   0.023   \n",
       "\n",
       "   attributes.smile.threshold  attributes.emotion.anger  \\\n",
       "0                        50.0                     0.003   \n",
       "1                        50.0                     0.083   \n",
       "2                        50.0                     0.011   \n",
       "\n",
       "   attributes.emotion.disgust  attributes.emotion.fear  \\\n",
       "0                       0.001                    0.001   \n",
       "1                       0.083                   10.519   \n",
       "2                       0.003                    0.008   \n",
       "\n",
       "   attributes.emotion.happiness  attributes.emotion.neutral  \\\n",
       "0                         0.001                      99.981   \n",
       "1                         1.535                      85.289   \n",
       "2                         0.009                      99.953   \n",
       "\n",
       "   attributes.emotion.sadness  attributes.emotion.surprise  \n",
       "0                       0.012                        0.001  \n",
       "1                       2.174                        0.318  \n",
       "2                       0.003                        0.014  "
      ]
     },
     "execution_count": 158,
     "metadata": {},
     "output_type": "execute_result"
    }
   ],
   "source": [
    "df = pd.DataFrame(json_normalize(result,\"faces\"))\n",
    "a = df[['attributes.gender.value','attributes.age.value','attributes.smile.value','attributes.smile.threshold','attributes.emotion.anger','attributes.emotion.disgust','attributes.emotion.fear','attributes.emotion.happiness','attributes.emotion.neutral','attributes.emotion.sadness','attributes.emotion.surprise']]\n",
    "a"
   ]
  },
  {
   "cell_type": "markdown",
   "metadata": {},
   "source": [
    "### 百度API"
   ]
  },
  {
   "cell_type": "code",
   "execution_count": 57,
   "metadata": {},
   "outputs": [],
   "source": [
    "import base64"
   ]
  },
  {
   "cell_type": "code",
   "execution_count": 58,
   "metadata": {},
   "outputs": [
    {
     "name": "stdout",
     "output_type": "stream",
     "text": [
      "{'refresh_token': '25.bfebaf2ff629252df1e609e8ab65fb85.315360000.1902211579.282335-19405023', 'expires_in': 2592000, 'session_key': '9mzdCPWOgHYBExX4FwpjKOBn4fsUq7+JaeroF8qIbr/IvDRQjrYz0VA1fApTs8rT9NqeDrc87vHsRvncbMKFtDiyP+WEiw==', 'access_token': '24.31d411a27383a3676e6ca9371395da16.2592000.1589443579.282335-19405023', 'scope': 'public brain_all_scope vis-faceverify_faceverify_h5-face-liveness vis-faceverify_FACE_V3 vis-faceverify_idl_face_merge wise_adapt lebo_resource_base lightservice_public hetu_basic lightcms_map_poi kaidian_kaidian ApsMisTest_Test权限 vis-classify_flower lpq_开放 cop_helloScope ApsMis_fangdi_permission smartapp_snsapi_base iop_autocar oauth_tp_app smartapp_smart_game_openapi oauth_sessionkey smartapp_swanid_verify smartapp_opensource_openapi smartapp_opensource_recapi qatest_scope1 fake_face_detect_开放Scope vis-ocr_虚拟人物助理 idl-video_虚拟人物助理', 'session_secret': '57822af428a3bdbadb62bb8d6a06b9d6'}\n"
     ]
    }
   ],
   "source": [
    "# 获取token\n",
    "host = 'https://aip.baidubce.com/oauth/2.0/token?grant_type=client_credentials&client_id=XYjcG2iSIaD8UDXcFNkPIc2i&client_secret=2EPcvyRjzCGiM22qmt4gs6GN1dAgXCx8'\n",
    "response = requests.get(host)\n",
    "if response:\n",
    "    print(response.json())"
   ]
  },
  {
   "cell_type": "code",
   "execution_count": 59,
   "metadata": {},
   "outputs": [
    {
     "name": "stdout",
     "output_type": "stream",
     "text": [
      "{'error_code': 0, 'error_msg': 'SUCCESS', 'log_id': 8979791010515, 'timestamp': 1586851582, 'cached': 0, 'result': {'face_num': 1, 'face_list': [{'face_token': 'b09276b333cd9c188822acf398c47cc3', 'location': {'left': 208.79, 'top': 170, 'width': 128, 'height': 126, 'rotation': -29}, 'face_probability': 1, 'angle': {'yaw': 24.25, 'pitch': 4.66, 'roll': -30.84}, 'age': 23, 'beauty': 77.45, 'expression': {'type': 'none', 'probability': 1}, 'face_shape': {'type': 'oval', 'probability': 0.5}, 'gender': {'type': 'male', 'probability': 1}}]}}\n"
     ]
    }
   ],
   "source": [
    "# 使用本地图片\n",
    "request_url = \"https://aip.baidubce.com/rest/2.0/face/v3/detect\"\n",
    "#params = \"{\\\"image\\\":\\\"https://timgsa.baidu.com/timg?image&quality=80&size=b9999_10000&sec=1586760376071&di=a92923ea2800ddd6991a9692a200081b&imgtype=0&src=http%3A%2F%2Fp.store.itangyuan.com%2Fp%2Fbook%2Fcover%2FEg2t4BEWe_A%2FEg6tEgbS4B2veBbTetAVeGuBJgekeCwV9f.jpg\\\",\\\"image_type\\\":\\\"FACE_TOKEN\\\",\\\"face_field\\\":\\\"faceshape,facetype\\\"}\"\n",
    "import base64\n",
    "with open(\"C:\\\\Users\\\\PC\\\\Desktop\\\\timg[1].jpg\",'rb') as f:\n",
    "    imageB = base64.b64encode(f.read())\n",
    "image = str(imageB,'utf-8')\n",
    "params = {\"image_type\":\"BASE64\",\"group_id_list\":\"faceLib,group1\",\"quality_control\":\"LOW\",\"face_field\":\"age,beauty,expression,face_shape,gender\"}\n",
    "params[\"image\"]=image\n",
    "params1=str(params)\n",
    "access_token = '[24.6c36f3a284159d7e194bb1a746375dd5.2592000.1589388539.282335-19405023]'\n",
    "request_url = request_url + \"?access_token=\" + access_token\n",
    "headers = {'content-type': 'application/json'}\n",
    "response = requests.post(request_url, data=params, headers=headers)\n",
    "if response:\n",
    "    print (response.json())"
   ]
  },
  {
   "cell_type": "code",
   "execution_count": 61,
   "metadata": {},
   "outputs": [
    {
     "data": {
      "text/plain": [
       "{'error_code': 0,\n",
       " 'error_msg': 'SUCCESS',\n",
       " 'log_id': 8979791010515,\n",
       " 'timestamp': 1586851582,\n",
       " 'cached': 0,\n",
       " 'result': {'face_num': 1,\n",
       "  'face_list': [{'face_token': 'b09276b333cd9c188822acf398c47cc3',\n",
       "    'location': {'left': 208.79,\n",
       "     'top': 170,\n",
       "     'width': 128,\n",
       "     'height': 126,\n",
       "     'rotation': -29},\n",
       "    'face_probability': 1,\n",
       "    'angle': {'yaw': 24.25, 'pitch': 4.66, 'roll': -30.84},\n",
       "    'age': 23,\n",
       "    'beauty': 77.45,\n",
       "    'expression': {'type': 'none', 'probability': 1},\n",
       "    'face_shape': {'type': 'oval', 'probability': 0.5},\n",
       "    'gender': {'type': 'male', 'probability': 1}}]}}"
      ]
     },
     "execution_count": 61,
     "metadata": {},
     "output_type": "execute_result"
    }
   ],
   "source": [
    "end = response.json()\n",
    "end"
   ]
  },
  {
   "cell_type": "code",
   "execution_count": 62,
   "metadata": {},
   "outputs": [
    {
     "data": {
      "text/plain": [
       "dict"
      ]
     },
     "execution_count": 62,
     "metadata": {},
     "output_type": "execute_result"
    }
   ],
   "source": [
    "type(end)"
   ]
  },
  {
   "cell_type": "code",
   "execution_count": 63,
   "metadata": {},
   "outputs": [
    {
     "data": {
      "text/html": [
       "<div>\n",
       "<style scoped>\n",
       "    .dataframe tbody tr th:only-of-type {\n",
       "        vertical-align: middle;\n",
       "    }\n",
       "\n",
       "    .dataframe tbody tr th {\n",
       "        vertical-align: top;\n",
       "    }\n",
       "\n",
       "    .dataframe thead th {\n",
       "        text-align: right;\n",
       "    }\n",
       "</style>\n",
       "<table border=\"1\" class=\"dataframe\">\n",
       "  <thead>\n",
       "    <tr style=\"text-align: right;\">\n",
       "      <th></th>\n",
       "      <th>error_code</th>\n",
       "      <th>error_msg</th>\n",
       "      <th>log_id</th>\n",
       "      <th>timestamp</th>\n",
       "      <th>cached</th>\n",
       "      <th>result.face_num</th>\n",
       "      <th>result.face_list</th>\n",
       "    </tr>\n",
       "  </thead>\n",
       "  <tbody>\n",
       "    <tr>\n",
       "      <td>0</td>\n",
       "      <td>0</td>\n",
       "      <td>SUCCESS</td>\n",
       "      <td>8979791010515</td>\n",
       "      <td>1586851582</td>\n",
       "      <td>0</td>\n",
       "      <td>1</td>\n",
       "      <td>[{'face_token': 'b09276b333cd9c188822acf398c47...</td>\n",
       "    </tr>\n",
       "  </tbody>\n",
       "</table>\n",
       "</div>"
      ],
      "text/plain": [
       "   error_code error_msg         log_id   timestamp  cached  result.face_num  \\\n",
       "0           0   SUCCESS  8979791010515  1586851582       0                1   \n",
       "\n",
       "                                    result.face_list  \n",
       "0  [{'face_token': 'b09276b333cd9c188822acf398c47...  "
      ]
     },
     "execution_count": 63,
     "metadata": {},
     "output_type": "execute_result"
    }
   ],
   "source": [
    "df = pd.DataFrame(json_normalize(end))\n",
    "df"
   ]
  },
  {
   "cell_type": "code",
   "execution_count": 64,
   "metadata": {},
   "outputs": [
    {
     "data": {
      "text/plain": [
       "{'face_num': 1,\n",
       " 'face_list': [{'face_token': 'b09276b333cd9c188822acf398c47cc3',\n",
       "   'location': {'left': 208.79,\n",
       "    'top': 170,\n",
       "    'width': 128,\n",
       "    'height': 126,\n",
       "    'rotation': -29},\n",
       "   'face_probability': 1,\n",
       "   'angle': {'yaw': 24.25, 'pitch': 4.66, 'roll': -30.84},\n",
       "   'age': 23,\n",
       "   'beauty': 77.45,\n",
       "   'expression': {'type': 'none', 'probability': 1},\n",
       "   'face_shape': {'type': 'oval', 'probability': 0.5},\n",
       "   'gender': {'type': 'male', 'probability': 1}}]}"
      ]
     },
     "execution_count": 64,
     "metadata": {},
     "output_type": "execute_result"
    }
   ],
   "source": [
    "real_result = end[\"result\"]\n",
    "real_result"
   ]
  },
  {
   "cell_type": "code",
   "execution_count": 65,
   "metadata": {},
   "outputs": [
    {
     "data": {
      "text/plain": [
       "[{'face_token': 'b09276b333cd9c188822acf398c47cc3',\n",
       "  'location': {'left': 208.79,\n",
       "   'top': 170,\n",
       "   'width': 128,\n",
       "   'height': 126,\n",
       "   'rotation': -29},\n",
       "  'face_probability': 1,\n",
       "  'angle': {'yaw': 24.25, 'pitch': 4.66, 'roll': -30.84},\n",
       "  'age': 23,\n",
       "  'beauty': 77.45,\n",
       "  'expression': {'type': 'none', 'probability': 1},\n",
       "  'face_shape': {'type': 'oval', 'probability': 0.5},\n",
       "  'gender': {'type': 'male', 'probability': 1}}]"
      ]
     },
     "execution_count": 65,
     "metadata": {},
     "output_type": "execute_result"
    }
   ],
   "source": [
    "need_result = real_result[\"face_list\"]\n",
    "need_result"
   ]
  },
  {
   "cell_type": "code",
   "execution_count": 67,
   "metadata": {},
   "outputs": [
    {
     "data": {
      "text/html": [
       "<div>\n",
       "<style scoped>\n",
       "    .dataframe tbody tr th:only-of-type {\n",
       "        vertical-align: middle;\n",
       "    }\n",
       "\n",
       "    .dataframe tbody tr th {\n",
       "        vertical-align: top;\n",
       "    }\n",
       "\n",
       "    .dataframe thead th {\n",
       "        text-align: right;\n",
       "    }\n",
       "</style>\n",
       "<table border=\"1\" class=\"dataframe\">\n",
       "  <thead>\n",
       "    <tr style=\"text-align: right;\">\n",
       "      <th></th>\n",
       "      <th>face_token</th>\n",
       "      <th>age</th>\n",
       "      <th>expression.type</th>\n",
       "      <th>gender.type</th>\n",
       "    </tr>\n",
       "  </thead>\n",
       "  <tbody>\n",
       "    <tr>\n",
       "      <td>0</td>\n",
       "      <td>b09276b333cd9c188822acf398c47cc3</td>\n",
       "      <td>23</td>\n",
       "      <td>none</td>\n",
       "      <td>male</td>\n",
       "    </tr>\n",
       "  </tbody>\n",
       "</table>\n",
       "</div>"
      ],
      "text/plain": [
       "                         face_token  age expression.type gender.type\n",
       "0  b09276b333cd9c188822acf398c47cc3   23            none        male"
      ]
     },
     "execution_count": 67,
     "metadata": {},
     "output_type": "execute_result"
    }
   ],
   "source": [
    "df = pd.DataFrame(json_normalize(need_result))\n",
    "df\n",
    "n = df[['face_token','age','expression.type','gender.type']]\n",
    "n"
   ]
  },
  {
   "cell_type": "markdown",
   "metadata": {},
   "source": [
    "### 多人提取（两个人）"
   ]
  },
  {
   "cell_type": "code",
   "execution_count": 68,
   "metadata": {},
   "outputs": [
    {
     "name": "stdout",
     "output_type": "stream",
     "text": [
      "{'refresh_token': '25.fd112123da2986123e208169056bb6d0.315360000.1902211659.282335-19405023', 'expires_in': 2592000, 'session_key': '9mzdDoCiabeMoQK+l49fL7CHCCEU1B5zykJL8Hof0rrywbEhs+YT6Ko6ei1W3caUuftnYntvTvM01yXXK/gRI9Z3HECAqg==', 'access_token': '24.5232b7101f7f94e064e409a3159974a9.2592000.1589443659.282335-19405023', 'scope': 'public brain_all_scope vis-faceverify_faceverify_h5-face-liveness vis-faceverify_FACE_V3 vis-faceverify_idl_face_merge wise_adapt lebo_resource_base lightservice_public hetu_basic lightcms_map_poi kaidian_kaidian ApsMisTest_Test权限 vis-classify_flower lpq_开放 cop_helloScope ApsMis_fangdi_permission smartapp_snsapi_base iop_autocar oauth_tp_app smartapp_smart_game_openapi oauth_sessionkey smartapp_swanid_verify smartapp_opensource_openapi smartapp_opensource_recapi qatest_scope1 fake_face_detect_开放Scope vis-ocr_虚拟人物助理 idl-video_虚拟人物助理', 'session_secret': '82bc984eed8f97d8bee29102375e6e1b'}\n"
     ]
    }
   ],
   "source": [
    "# 获取token\n",
    "host = 'https://aip.baidubce.com/oauth/2.0/token?grant_type=client_credentials&client_id=XYjcG2iSIaD8UDXcFNkPIc2i&client_secret=2EPcvyRjzCGiM22qmt4gs6GN1dAgXCx8'\n",
    "response = requests.get(host)\n",
    "if response:\n",
    "    print(response.json())"
   ]
  },
  {
   "cell_type": "code",
   "execution_count": 69,
   "metadata": {},
   "outputs": [
    {
     "name": "stdout",
     "output_type": "stream",
     "text": [
      "{'error_code': 0, 'error_msg': 'SUCCESS', 'log_id': 3594159455201, 'timestamp': 1586851661, 'cached': 0, 'result': {'face_num': 1, 'face_list': [{'face_token': '414efcc43882f20822502a50e7858764', 'location': {'left': 207.37, 'top': 183.99, 'width': 123, 'height': 120, 'rotation': -15}, 'face_probability': 1, 'angle': {'yaw': 10.91, 'pitch': 19.97, 'roll': -21.27}, 'age': 23, 'beauty': 84.57, 'expression': {'type': 'none', 'probability': 1}, 'face_shape': {'type': 'heart', 'probability': 0.49}, 'gender': {'type': 'male', 'probability': 1}}]}}\n"
     ]
    }
   ],
   "source": [
    "# 使用本地图片\n",
    "request_url = \"https://aip.baidubce.com/rest/2.0/face/v3/detect\"\n",
    "#params = \"{\\\"image\\\":\\\"https://timgsa.baidu.com/timg?image&quality=80&size=b9999_10000&sec=1586760376071&di=a92923ea2800ddd6991a9692a200081b&imgtype=0&src=http%3A%2F%2Fp.store.itangyuan.com%2Fp%2Fbook%2Fcover%2FEg2t4BEWe_A%2FEg6tEgbS4B2veBbTetAVeGuBJgekeCwV9f.jpg\\\",\\\"image_type\\\":\\\"FACE_TOKEN\\\",\\\"face_field\\\":\\\"faceshape,facetype\\\"}\"\n",
    "import base64\n",
    "with open(\"D:\\\\timg[2].jpg\",'rb') as y:\n",
    "    imageA = base64.b64encode(y.read())\n",
    "image = str(imageA,'utf-8')\n",
    "params = {\"image_type\":\"BASE64\",\"group_id_list\":\"faceLib,group1\",\"quality_control\":\"LOW\",\"face_field\":\"age,beauty,expression,face_shape,gender\"}\n",
    "params[\"image\"]=image\n",
    "params1=str(params)\n",
    "access_token = '[24.f390ae9e31ad793ded5ec1bca05576c2.2592000.1589441715.282335-19405023]'\n",
    "request_url = request_url + \"?access_token=\" + access_token\n",
    "headers = {'content-type': 'application/json'}\n",
    "response = requests.post(request_url, data=params, headers=headers)\n",
    "if response:\n",
    "    print (response.json())"
   ]
  },
  {
   "cell_type": "code",
   "execution_count": 70,
   "metadata": {},
   "outputs": [
    {
     "data": {
      "text/plain": [
       "{'error_code': 0,\n",
       " 'error_msg': 'SUCCESS',\n",
       " 'log_id': 3594159455201,\n",
       " 'timestamp': 1586851661,\n",
       " 'cached': 0,\n",
       " 'result': {'face_num': 1,\n",
       "  'face_list': [{'face_token': '414efcc43882f20822502a50e7858764',\n",
       "    'location': {'left': 207.37,\n",
       "     'top': 183.99,\n",
       "     'width': 123,\n",
       "     'height': 120,\n",
       "     'rotation': -15},\n",
       "    'face_probability': 1,\n",
       "    'angle': {'yaw': 10.91, 'pitch': 19.97, 'roll': -21.27},\n",
       "    'age': 23,\n",
       "    'beauty': 84.57,\n",
       "    'expression': {'type': 'none', 'probability': 1},\n",
       "    'face_shape': {'type': 'heart', 'probability': 0.49},\n",
       "    'gender': {'type': 'male', 'probability': 1}}]}}"
      ]
     },
     "execution_count": 70,
     "metadata": {},
     "output_type": "execute_result"
    }
   ],
   "source": [
    "trival = response.json()\n",
    "trival"
   ]
  },
  {
   "cell_type": "code",
   "execution_count": 71,
   "metadata": {},
   "outputs": [
    {
     "data": {
      "text/plain": [
       "[{'face_token': '414efcc43882f20822502a50e7858764',\n",
       "  'location': {'left': 207.37,\n",
       "   'top': 183.99,\n",
       "   'width': 123,\n",
       "   'height': 120,\n",
       "   'rotation': -15},\n",
       "  'face_probability': 1,\n",
       "  'angle': {'yaw': 10.91, 'pitch': 19.97, 'roll': -21.27},\n",
       "  'age': 23,\n",
       "  'beauty': 84.57,\n",
       "  'expression': {'type': 'none', 'probability': 1},\n",
       "  'face_shape': {'type': 'heart', 'probability': 0.49},\n",
       "  'gender': {'type': 'male', 'probability': 1}}]"
      ]
     },
     "execution_count": 71,
     "metadata": {},
     "output_type": "execute_result"
    }
   ],
   "source": [
    "real_result = trival[\"result\"]\n",
    "real_result\n",
    "need_result = real_result[\"face_list\"]\n",
    "need_result"
   ]
  },
  {
   "cell_type": "code",
   "execution_count": 72,
   "metadata": {},
   "outputs": [
    {
     "data": {
      "text/html": [
       "<div>\n",
       "<style scoped>\n",
       "    .dataframe tbody tr th:only-of-type {\n",
       "        vertical-align: middle;\n",
       "    }\n",
       "\n",
       "    .dataframe tbody tr th {\n",
       "        vertical-align: top;\n",
       "    }\n",
       "\n",
       "    .dataframe thead th {\n",
       "        text-align: right;\n",
       "    }\n",
       "</style>\n",
       "<table border=\"1\" class=\"dataframe\">\n",
       "  <thead>\n",
       "    <tr style=\"text-align: right;\">\n",
       "      <th></th>\n",
       "      <th>face_token</th>\n",
       "      <th>age</th>\n",
       "      <th>expression.type</th>\n",
       "      <th>gender.type</th>\n",
       "    </tr>\n",
       "  </thead>\n",
       "  <tbody>\n",
       "    <tr>\n",
       "      <td>0</td>\n",
       "      <td>414efcc43882f20822502a50e7858764</td>\n",
       "      <td>23</td>\n",
       "      <td>none</td>\n",
       "      <td>male</td>\n",
       "    </tr>\n",
       "  </tbody>\n",
       "</table>\n",
       "</div>"
      ],
      "text/plain": [
       "                         face_token  age expression.type gender.type\n",
       "0  414efcc43882f20822502a50e7858764   23            none        male"
      ]
     },
     "execution_count": 72,
     "metadata": {},
     "output_type": "execute_result"
    }
   ],
   "source": [
    "df = pd.DataFrame(json_normalize(need_result))\n",
    "df\n",
    "m = df[['face_token','age','expression.type','gender.type']]\n",
    "m"
   ]
  },
  {
   "cell_type": "code",
   "execution_count": 44,
   "metadata": {},
   "outputs": [
    {
     "name": "stdout",
     "output_type": "stream",
     "text": [
      "{'refresh_token': '25.3a4ed8ffc573be05c463866d7e5aa2a5.315360000.1902211310.282335-19405023', 'expires_in': 2592000, 'session_key': '9mzdWWgNZtPqefJosRxxpKbOEWhDl5sdGSxq8d/279iiMC/ZoM4FM/2NHSFOHzPqB1xFRVtjVbWNJQyKx/q+yjCBpYpWOA==', 'access_token': '24.b2aa0633a05b13c9bc8d352600ce623d.2592000.1589443310.282335-19405023', 'scope': 'public brain_all_scope vis-faceverify_faceverify_h5-face-liveness vis-faceverify_FACE_V3 vis-faceverify_idl_face_merge wise_adapt lebo_resource_base lightservice_public hetu_basic lightcms_map_poi kaidian_kaidian ApsMisTest_Test权限 vis-classify_flower lpq_开放 cop_helloScope ApsMis_fangdi_permission smartapp_snsapi_base iop_autocar oauth_tp_app smartapp_smart_game_openapi oauth_sessionkey smartapp_swanid_verify smartapp_opensource_openapi smartapp_opensource_recapi qatest_scope1 fake_face_detect_开放Scope vis-ocr_虚拟人物助理 idl-video_虚拟人物助理', 'session_secret': 'd1b970a784754036f1c0e174db11fe8f'}\n"
     ]
    }
   ],
   "source": [
    "# 获取token\n",
    "host = 'https://aip.baidubce.com/oauth/2.0/token?grant_type=client_credentials&client_id=XYjcG2iSIaD8UDXcFNkPIc2i&client_secret=2EPcvyRjzCGiM22qmt4gs6GN1dAgXCx8'\n",
    "response = requests.get(host)\n",
    "if response:\n",
    "    print(response.json())"
   ]
  },
  {
   "cell_type": "code",
   "execution_count": 46,
   "metadata": {},
   "outputs": [
    {
     "name": "stdout",
     "output_type": "stream",
     "text": [
      "{'error_code': 0, 'error_msg': 'SUCCESS', 'log_id': 6505842599753, 'timestamp': 1586851390, 'cached': 0, 'result': {'face_num': 1, 'face_list': [{'face_token': '3dcb0142b349401544036aee1df7cadc', 'location': {'left': 327.35, 'top': 722.64, 'width': 196, 'height': 183, 'rotation': 27}, 'face_probability': 1, 'angle': {'yaw': -24.53, 'pitch': 18.81, 'roll': 32.21}, 'age': 23, 'beauty': 74.24, 'expression': {'type': 'none', 'probability': 1}, 'face_shape': {'type': 'heart', 'probability': 0.6}, 'gender': {'type': 'male', 'probability': 0.97}}]}}\n"
     ]
    }
   ],
   "source": [
    "# 使用本地图片\n",
    "request_url = \"https://aip.baidubce.com/rest/2.0/face/v3/detect\"\n",
    "#params = \"{\\\"image\\\":\\\"https://timgsa.baidu.com/timg?image&quality=80&size=b9999_10000&sec=1586760376071&di=a92923ea2800ddd6991a9692a200081b&imgtype=0&src=http%3A%2F%2Fp.store.itangyuan.com%2Fp%2Fbook%2Fcover%2FEg2t4BEWe_A%2FEg6tEgbS4B2veBbTetAVeGuBJgekeCwV9f.jpg\\\",\\\"image_type\\\":\\\"FACE_TOKEN\\\",\\\"face_field\\\":\\\"faceshape,facetype\\\"}\"\n",
    "import base64\n",
    "with open(\"D:\\\\Download\\\\three.jpg\",'rb') as x:\n",
    "    imageC = base64.b64encode(x.read())\n",
    "image = str(imageC,'utf-8')\n",
    "params = {\"image_type\":\"BASE64\",\"group_id_list\":\"faceLib,group1\",\"quality_control\":\"LOW\",\"face_field\":\"age,beauty,expression,face_shape,gender\"}\n",
    "params[\"image\"]=image\n",
    "params1=str(params)\n",
    "access_token = '[24.f390ae9e31ad793ded5ec1bca05576c2.2592000.1589441715.282335-19405023]'\n",
    "request_url = request_url + \"?access_token=\" + access_token\n",
    "headers = {'content-type': 'application/json'}\n",
    "response = requests.post(request_url, data=params, headers=headers)\n",
    "if response:\n",
    "    print (response.json())"
   ]
  },
  {
   "cell_type": "code",
   "execution_count": 49,
   "metadata": {},
   "outputs": [
    {
     "data": {
      "text/plain": [
       "{'error_code': 0,\n",
       " 'error_msg': 'SUCCESS',\n",
       " 'log_id': 6505842599753,\n",
       " 'timestamp': 1586851390,\n",
       " 'cached': 0,\n",
       " 'result': {'face_num': 1,\n",
       "  'face_list': [{'face_token': '3dcb0142b349401544036aee1df7cadc',\n",
       "    'location': {'left': 327.35,\n",
       "     'top': 722.64,\n",
       "     'width': 196,\n",
       "     'height': 183,\n",
       "     'rotation': 27},\n",
       "    'face_probability': 1,\n",
       "    'angle': {'yaw': -24.53, 'pitch': 18.81, 'roll': 32.21},\n",
       "    'age': 23,\n",
       "    'beauty': 74.24,\n",
       "    'expression': {'type': 'none', 'probability': 1},\n",
       "    'face_shape': {'type': 'heart', 'probability': 0.6},\n",
       "    'gender': {'type': 'male', 'probability': 0.97}}]}}"
      ]
     },
     "execution_count": 49,
     "metadata": {},
     "output_type": "execute_result"
    }
   ],
   "source": [
    "threshold = response.json()\n",
    "threshold"
   ]
  },
  {
   "cell_type": "code",
   "execution_count": 53,
   "metadata": {},
   "outputs": [
    {
     "data": {
      "text/plain": [
       "[{'face_token': '3dcb0142b349401544036aee1df7cadc',\n",
       "  'location': {'left': 327.35,\n",
       "   'top': 722.64,\n",
       "   'width': 196,\n",
       "   'height': 183,\n",
       "   'rotation': 27},\n",
       "  'face_probability': 1,\n",
       "  'angle': {'yaw': -24.53, 'pitch': 18.81, 'roll': 32.21},\n",
       "  'age': 23,\n",
       "  'beauty': 74.24,\n",
       "  'expression': {'type': 'none', 'probability': 1},\n",
       "  'face_shape': {'type': 'heart', 'probability': 0.6},\n",
       "  'gender': {'type': 'male', 'probability': 0.97}}]"
      ]
     },
     "execution_count": 53,
     "metadata": {},
     "output_type": "execute_result"
    }
   ],
   "source": [
    "real_result = threshold[\"result\"]\n",
    "real_result\n",
    "need_result = real_result[\"face_list\"]\n",
    "need_result"
   ]
  },
  {
   "cell_type": "code",
   "execution_count": 54,
   "metadata": {},
   "outputs": [
    {
     "data": {
      "text/html": [
       "<div>\n",
       "<style scoped>\n",
       "    .dataframe tbody tr th:only-of-type {\n",
       "        vertical-align: middle;\n",
       "    }\n",
       "\n",
       "    .dataframe tbody tr th {\n",
       "        vertical-align: top;\n",
       "    }\n",
       "\n",
       "    .dataframe thead th {\n",
       "        text-align: right;\n",
       "    }\n",
       "</style>\n",
       "<table border=\"1\" class=\"dataframe\">\n",
       "  <thead>\n",
       "    <tr style=\"text-align: right;\">\n",
       "      <th></th>\n",
       "      <th>face_token</th>\n",
       "      <th>age</th>\n",
       "      <th>expression.type</th>\n",
       "      <th>gender.type</th>\n",
       "    </tr>\n",
       "  </thead>\n",
       "  <tbody>\n",
       "    <tr>\n",
       "      <td>0</td>\n",
       "      <td>3dcb0142b349401544036aee1df7cadc</td>\n",
       "      <td>23</td>\n",
       "      <td>none</td>\n",
       "      <td>male</td>\n",
       "    </tr>\n",
       "  </tbody>\n",
       "</table>\n",
       "</div>"
      ],
      "text/plain": [
       "                         face_token  age expression.type gender.type\n",
       "0  3dcb0142b349401544036aee1df7cadc   23            none        male"
      ]
     },
     "execution_count": 54,
     "metadata": {},
     "output_type": "execute_result"
    }
   ],
   "source": [
    "df = pd.DataFrame(json_normalize(need_result))\n",
    "df\n",
    "q = df[['face_token','age','expression.type','gender.type']]\n",
    "q"
   ]
  },
  {
   "cell_type": "markdown",
   "metadata": {},
   "source": [
    "**百度AI定义的FACE_TOKEN**: 人脸图片的唯一标识，调用人脸检测接口时，会为每个人脸图片赋予一个 **唯一的** FACE_TOKEN， **同一张图片** 多次检测得到的 **FACE_TOKEN是同一个** 。"
   ]
  },
  {
   "cell_type": "markdown",
   "metadata": {},
   "source": [
    "### 总结对比比较"
   ]
  },
  {
   "cell_type": "markdown",
   "metadata": {},
   "source": [
    "- 用了三个API平台，分别是**Microsoft**，**Face++** **百度API**\n",
    "- 其中百度API的回报信息有点疑惑，明明是不同的照片不同的face_token，却显示出相同的数据结果。也无法检测多人，好像只能检测一个人脸。并且年龄性别甚至是情绪啥都一样。\n",
    "- 在三个平台中，我认为在 **对年龄分析** 的数据中最准确的应该是Face++,特别是在人数较多的时候验证的比其他两家都要“写实”。不会像微软那么显年轻，也不会像百度AI如此概括性。\n",
    "- 但是在性别的检测中，微软返回的数据都能精准识别出来。其次就是Face++，最后三个男人的图片却检测出有一个女性，如果因为化装所以不可识别的话那也有点不太行。\n",
    "- 综上，三个API还是微软API比较好，尽管显得人年轻。"
   ]
  }
 ],
 "metadata": {
  "kernelspec": {
   "display_name": "Python 3",
   "language": "python",
   "name": "python3"
  },
  "language_info": {
   "codemirror_mode": {
    "name": "ipython",
    "version": 3
   },
   "file_extension": ".py",
   "mimetype": "text/x-python",
   "name": "python",
   "nbconvert_exporter": "python",
   "pygments_lexer": "ipython3",
   "version": "3.7.4"
  }
 },
 "nbformat": 4,
 "nbformat_minor": 2
}
