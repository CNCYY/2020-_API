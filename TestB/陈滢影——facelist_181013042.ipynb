{
 "cells": [
  {
   "cell_type": "code",
   "execution_count": 163,
   "metadata": {},
   "outputs": [],
   "source": [
    "# 导入可能用到的模板\n",
    "import http.client, urllib.request, urllib.parse, urllib.error, base64\n",
    "import json\n",
    "import requests\n",
    "import pandas as pd"
   ]
  },
  {
   "cell_type": "code",
   "execution_count": 164,
   "metadata": {},
   "outputs": [],
   "source": [
    "KEY = 'd7cf18bf66ee4b6e883012ace3ae5536'"
   ]
  },
  {
   "cell_type": "code",
   "execution_count": 165,
   "metadata": {},
   "outputs": [
    {
     "data": {
      "text/plain": [
       "str"
      ]
     },
     "execution_count": 165,
     "metadata": {},
     "output_type": "execute_result"
    }
   ],
   "source": [
    "type(KEY)"
   ]
  },
  {
   "cell_type": "markdown",
   "metadata": {},
   "source": [
    "### 创建列表 "
   ]
  },
  {
   "cell_type": "code",
   "execution_count": 166,
   "metadata": {},
   "outputs": [],
   "source": [
    "BASE_URL = \"https://dyiyigeface.cognitiveservices.azure.com/face/v1.0/facelists/{faceListId}\""
   ]
  },
  {
   "cell_type": "code",
   "execution_count": 167,
   "metadata": {},
   "outputs": [],
   "source": [
    "# 沿用API的示范代碼\n",
    "HEADERS = {\n",
    "    # Request headers\n",
    "    'Content-Type': 'application/json',\n",
    "    'Ocp-Apim-Subscription-Key': '{}'.format(KEY), #''用KEY代替\n",
    "}"
   ]
  },
  {
   "cell_type": "code",
   "execution_count": 169,
   "metadata": {},
   "outputs": [],
   "source": [
    "# 请求正文\n",
    "DATA = {\n",
    "    \"name\": \"Facelist\",# 命名\n",
    "    \"userData\": \"face_data\",\n",
    "    \"recognitionModel\": \"recognition_02\"\n",
    "}\n",
    "params = {\n",
    "    \"faceListId\":\"yixinglist\"# BASE_URL最后那个就是参数，需要定义\n",
    "}"
   ]
  },
  {
   "cell_type": "code",
   "execution_count": 171,
   "metadata": {},
   "outputs": [],
   "source": [
    "r = requests.put(BASE_URL,data=json.dumps(DATA),headers = HEADERS,params=params)"
   ]
  },
  {
   "cell_type": "code",
   "execution_count": 172,
   "metadata": {},
   "outputs": [
    {
     "data": {
      "text/plain": [
       "200"
      ]
     },
     "execution_count": 172,
     "metadata": {},
     "output_type": "execute_result"
    }
   ],
   "source": [
    "r.status_code"
   ]
  },
  {
   "cell_type": "code",
   "execution_count": 173,
   "metadata": {},
   "outputs": [
    {
     "data": {
      "text/plain": [
       "b''"
      ]
     },
     "execution_count": 173,
     "metadata": {},
     "output_type": "execute_result"
    }
   ],
   "source": [
    "r.content"
   ]
  },
  {
   "cell_type": "markdown",
   "metadata": {},
   "source": [
    "### 添加人脸 "
   ]
  },
  {
   "cell_type": "code",
   "execution_count": 174,
   "metadata": {},
   "outputs": [],
   "source": [
    "ADD_URL = \"https://dyiyigeface.cognitiveservices.azure.com/face/v1.0/facelists/{faceListId}/persistedFaces\"#问号后面的要不要？"
   ]
  },
  {
   "cell_type": "code",
   "execution_count": 175,
   "metadata": {},
   "outputs": [],
   "source": [
    "img_url = \"https://ss2.bdstatic.com/70cFvnSh_Q1YnxGkpoWK1HF6hhy/it/u=1526482346,4216020040&fm=26&gp=0.jpg\""
   ]
  },
  {
   "cell_type": "code",
   "execution_count": 176,
   "metadata": {},
   "outputs": [
    {
     "data": {
      "text/plain": [
       "{'url': 'https://ss2.bdstatic.com/70cFvnSh_Q1YnxGkpoWK1HF6hhy/it/u=1526482346,4216020040&fm=26&gp=0.jpg'}"
      ]
     },
     "execution_count": 176,
     "metadata": {},
     "output_type": "execute_result"
    }
   ],
   "source": [
    "IMG={\"url\":img_url}\n",
    "IMG # 用字典的方式存储图片url，便于赋值（？） "
   ]
  },
  {
   "cell_type": "code",
   "execution_count": 177,
   "metadata": {},
   "outputs": [],
   "source": [
    "HEADERS = {\n",
    "    # Request headers\n",
    "    'Content-Type': 'application/json',\n",
    "    'Ocp-Apim-Subscription-Key': '{}'.format(KEY), #''用KEY代替\n",
    "}\n",
    "DATA = {\n",
    "    #'url': '{}'.format(img_url),\n",
    "    # Request parameters\n",
    "}\n",
    "params = {\n",
    "    \"faceListId\":\"yixinglist\",\n",
    "    \"userData\": \"first\"\n",
    "}\n",
    "# 只需要header，data，params"
   ]
  },
  {
   "cell_type": "code",
   "execution_count": 178,
   "metadata": {
    "scrolled": true
   },
   "outputs": [],
   "source": [
    "r = requests.post(ADD_URL,json=IMG,headers = HEADERS,params=params)"
   ]
  },
  {
   "cell_type": "code",
   "execution_count": 179,
   "metadata": {},
   "outputs": [
    {
     "data": {
      "text/plain": [
       "200"
      ]
     },
     "execution_count": 179,
     "metadata": {},
     "output_type": "execute_result"
    }
   ],
   "source": [
    "r.status_code"
   ]
  },
  {
   "cell_type": "code",
   "execution_count": 180,
   "metadata": {},
   "outputs": [
    {
     "data": {
      "text/plain": [
       "b'{\"persistedFaceId\":\"38ac7047-bba2-40fe-9255-0f0d63ccdeb8\"}'"
      ]
     },
     "execution_count": 180,
     "metadata": {},
     "output_type": "execute_result"
    }
   ],
   "source": [
    "r.content # 已经有了一张faceID"
   ]
  },
  {
   "cell_type": "markdown",
   "metadata": {},
   "source": [
    "### 查看face_list的内容"
   ]
  },
  {
   "cell_type": "code",
   "execution_count": 181,
   "metadata": {},
   "outputs": [
    {
     "data": {
      "text/plain": [
       "b'{\"persistedFaces\":[{\"persistedFaceId\":\"38ac7047-bba2-40fe-9255-0f0d63ccdeb8\",\"userData\":\"first\"}],\"faceListId\":\"yixinglist\",\"name\":\"Facelist\",\"userData\":\"face_data\"}'"
      ]
     },
     "execution_count": 181,
     "metadata": {},
     "output_type": "execute_result"
    }
   ],
   "source": [
    "\n",
    "BASE_URL = \"https://dyiyigeface.cognitiveservices.azure.com/face/v1.0/facelists/{faceListId}\"\n",
    "data = {\n",
    "       \"faceListId\":\"yixinglist\",\n",
    "   }# 由于是查看列表内容所以只完善baseurl里有的参数内容就可以了\n",
    "check_list = requests.get(BASE_URL,headers=HEADERS,params=data)\n",
    "c = check_list.content\n",
    "c\n",
    "# type(c)\n",
    "# d = str(c,encoding = 'utf-8')\n",
    "# type(d)"
   ]
  },
  {
   "cell_type": "markdown",
   "metadata": {},
   "source": [
    "### 添加太多不如存储为函数 \n",
    "#### 添加图片的方法：\n",
    "- 需要有base_url\n",
    "- KEY\n",
    "- 图片url\n",
    "- HEADERS,DATA,parmas\n",
    "- 最后还需要运行r"
   ]
  },
  {
   "cell_type": "code",
   "execution_count": 182,
   "metadata": {},
   "outputs": [],
   "source": [
    "def AddFace(img_url=str,userData=str):# img_url,userData为形式参数，传到各自该去到的地方，所以调用时只需要填写这两个\n",
    "    BASE_URL = \"https://dyiyigeface.cognitiveservices.azure.com/face/v1.0/facelists/{faceListId}/persistedFaces\"# 错把创建list的url放到增加图片的url里面去了！！！！！！！！！\n",
    "    KEY = 'd7cf18bf66ee4b6e883012ace3ae5536'\n",
    "    img_url = img_url # 填啥？\n",
    "    HEADERS = {\n",
    "    # Request headers\n",
    "    'Content-Type': 'application/json',\n",
    "    'Ocp-Apim-Subscription-Key': '{}'.format(KEY), #''用KEY代替\n",
    "    }\n",
    "    params = {\n",
    "    \"faceListId\":\"yixinglist\",\n",
    "    \"userData\": userData\n",
    "    }\n",
    "    r = requests.post(BASE_URL,json={\"url\":img_url},headers = HEADERS,params=params)\n",
    "    #img_url为字符串，把它转换为和haeders一样的json\n",
    "    #注意添加人脸的方式是post\n",
    "    return r.status_code # 查看添加的东西\n",
    "#AddFace(\"https://timgsa.baidu.com/timg?image&quality=80&size=b9999_10000&sec=1586760376071&di=a92923ea2800ddd6991a9692a200081b&imgtype=0&src=http%3A%2F%2Fp.store.itangyuan.com%2Fp%2Fbook%2Fcover%2FEg2t4BEWe_A%2FEg6tEgbS4B2veBbTetAVeGuBJgekeCwV9f.jpg\",\"张艺兴\")"
   ]
  },
  {
   "cell_type": "markdown",
   "metadata": {},
   "source": [
    "### 添加不少于十张照片"
   ]
  },
  {
   "cell_type": "code",
   "execution_count": 183,
   "metadata": {},
   "outputs": [
    {
     "data": {
      "text/plain": [
       "200"
      ]
     },
     "execution_count": 183,
     "metadata": {},
     "output_type": "execute_result"
    }
   ],
   "source": [
    "AddFace(\"https://ss2.bdstatic.com/70cFvnSh_Q1YnxGkpoWK1HF6hhy/it/u=434353227,2302643243&fm=26&gp=0.jpg\",\"年轻的黄渤\")\n",
    "\n",
    "AddFace(\"https://ss3.bdstatic.com/70cFv8Sh_Q1YnxGkpoWK1HF6hhy/it/u=2054260892,3542482217&fm=26&gp=0.jpg\",\"方逸伦\")\n",
    "\n",
    "AddFace(\"https://timgsa.baidu.com/timg?image&quality=80&size=b9999_10000&sec=1586900034800&di=d736fd8e4f799b35b9356109edfe40c7&imgtype=0&src=http%3A%2F%2Fwww.bala.cc%2Fuploads%2Fallimg%2F181205%2F1_181205131421_1.jpg\",\"胡歌\")\n",
    "\n",
    "AddFace(\"https://ss0.bdstatic.com/70cFvHSh_Q1YnxGkpoWK1HF6hhy/it/u=41969654,3131772064&fm=26&gp=0.jpg\",\"李荣浩老师\")\n",
    "\n",
    "AddFace(\"https://timgsa.baidu.com/timg?image&quality=80&size=b9999_10000&sec=1586900121635&di=a5ab38af4ea6bb5c9dd68f24336b4e80&imgtype=0&src=http%3A%2F%2Fn.sinaimg.cn%2Ffashion%2Ftransform%2F20170413%2FXQtJ-fyeimrn1748098.jpg\",\"任嘉伦\")\n",
    "\n",
    "AddFace(\"https://timgsa.baidu.com/timg?image&quality=80&size=b9999_10000&sec=1586900162139&di=174c2f0793a8b3d23707a3ca7938f577&imgtype=0&src=http%3A%2F%2Fwww.xkzzz.com%2Fzb_users%2Fupload%2F2019%2F01%2F201901171547726589169502.jpg\",\"王嘉尔\")\n",
    "\n",
    "AddFace(\"https://timgsa.baidu.com/timg?image&quality=80&size=b9999_10000&sec=1586900286608&di=195d254a371195732b7c64c76de79a1f&imgtype=0&src=http%3A%2F%2Fpics0.baidu.com%2Ffeed%2Fd000baa1cd11728b592656749da0a7c8c3fd2c3b.jpeg%3Ftoken%3D122f9d6a4575d5e369ea26d84518923c\",\"罗志祥\")\n",
    "\n",
    "AddFace(\"https://timgsa.baidu.com/timg?image&quality=80&size=b9999_10000&sec=1586900331569&di=0b29b80574907112ee6484be8cc909ea&imgtype=0&src=http%3A%2F%2Finews.gtimg.com%2Fnewsapp_bt%2F0%2F11567353642%2F641.jpg\",\"王一博\")\n",
    "\n",
    "AddFace(\"https://ss2.bdstatic.com/70cFvnSh_Q1YnxGkpoWK1HF6hhy/it/u=92956990,4061072278&fm=26&gp=0.jpg\",\"年轻的胡歌\")\n",
    "\n",
    "AddFace(\"https://ss0.bdstatic.com/70cFvHSh_Q1YnxGkpoWK1HF6hhy/it/u=185140811,3052105561&fm=26&gp=0.jpg\",\"年轻时的黄磊\")\n",
    "\n",
    "AddFace(\"https://timgsa.baidu.com/timg?image&quality=80&size=b9999_10000&sec=1586900772585&di=0489d6a5cc2fa623f08f1c09a34daa79&imgtype=0&src=http%3A%2F%2Fwww.yulefm.com%2Fd%2Ffile%2Fent%2F2019-05-25%2F3626f740e6f44cd83781345174ddc537.jpg\",\"李易峰\")\n"
   ]
  },
  {
   "cell_type": "markdown",
   "metadata": {},
   "source": [
    "### 检测我所需要的人脸并获取faceid"
   ]
  },
  {
   "cell_type": "code",
   "execution_count": 184,
   "metadata": {},
   "outputs": [
    {
     "data": {
      "text/plain": [
       "200"
      ]
     },
     "execution_count": 184,
     "metadata": {},
     "output_type": "execute_result"
    }
   ],
   "source": [
    "detect_url = \"https://dyiyigeface.cognitiveservices.azure.com/face/v1.0/detect\"\n",
    "\n",
    "img_url = \"https://ss2.bdstatic.com/70cFvnSh_Q1YnxGkpoWK1HF6hhy/it/u=1526482346,4216020040&fm=26&gp=0.jpg\"\n",
    "\n",
    "HEADERS = {\n",
    "    # Request headers\n",
    "    'Content-Type': 'application/json',\n",
    "    'Ocp-Apim-Subscription-Key': '{}'.format(KEY), #''  \n",
    "}\n",
    "\n",
    "payload = {\n",
    "    'recognitionModel': 'recognition_02',\n",
    "    'returnFaceId': 'true',\n",
    "    'returnFaceLandmarks': 'flase',\n",
    "    'returnFaceAttributes': 'age,gender,headPose,smile,facialHair,glasses,emotion,hair,makeup,occlusion,accessories,blur,exposure,noise',\n",
    "}\n",
    "\n",
    "result =requests.post(detect_url,json={\"url\": img_url},params=payload,headers = HEADERS)\n",
    "\n",
    "result.status_code\n"
   ]
  },
  {
   "cell_type": "code",
   "execution_count": 185,
   "metadata": {},
   "outputs": [
    {
     "data": {
      "text/plain": [
       "[{'faceId': '90a7578a-3105-45f0-89fd-6208341aa807',\n",
       "  'faceRectangle': {'top': 43, 'left': 187, 'width': 108, 'height': 108},\n",
       "  'faceAttributes': {'smile': 0.001,\n",
       "   'headPose': {'pitch': 5.7, 'roll': -6.5, 'yaw': -14.9},\n",
       "   'gender': 'male',\n",
       "   'age': 21.0,\n",
       "   'facialHair': {'moustache': 0.1, 'beard': 0.1, 'sideburns': 0.1},\n",
       "   'glasses': 'NoGlasses',\n",
       "   'emotion': {'anger': 0.0,\n",
       "    'contempt': 0.0,\n",
       "    'disgust': 0.0,\n",
       "    'fear': 0.0,\n",
       "    'happiness': 0.001,\n",
       "    'neutral': 0.999,\n",
       "    'sadness': 0.0,\n",
       "    'surprise': 0.0},\n",
       "   'blur': {'blurLevel': 'low', 'value': 0.1},\n",
       "   'exposure': {'exposureLevel': 'goodExposure', 'value': 0.59},\n",
       "   'noise': {'noiseLevel': 'low', 'value': 0.1},\n",
       "   'makeup': {'eyeMakeup': True, 'lipMakeup': True},\n",
       "   'accessories': [],\n",
       "   'occlusion': {'foreheadOccluded': False,\n",
       "    'eyeOccluded': False,\n",
       "    'mouthOccluded': False},\n",
       "   'hair': {'bald': 0.19,\n",
       "    'invisible': False,\n",
       "    'hairColor': [{'color': 'black', 'confidence': 1.0},\n",
       "     {'color': 'other', 'confidence': 0.57},\n",
       "     {'color': 'brown', 'confidence': 0.45},\n",
       "     {'color': 'gray', 'confidence': 0.44},\n",
       "     {'color': 'blond', 'confidence': 0.07},\n",
       "     {'color': 'red', 'confidence': 0.01}]}}}]"
      ]
     },
     "execution_count": 185,
     "metadata": {},
     "output_type": "execute_result"
    }
   ],
   "source": [
    "result.json()\n",
    "neededid = result.json()\n",
    "neededid\n"
   ]
  },
  {
   "cell_type": "code",
   "execution_count": 186,
   "metadata": {},
   "outputs": [
    {
     "data": {
      "text/plain": [
       "'90a7578a-3105-45f0-89fd-6208341aa807'"
      ]
     },
     "execution_count": 186,
     "metadata": {},
     "output_type": "execute_result"
    }
   ],
   "source": [
    "LayZhangid = neededid[0][\"faceId\"]\n",
    "LayZhangid"
   ]
  },
  {
   "cell_type": "markdown",
   "metadata": {},
   "source": [
    "### 返回相似置信度 \n",
    "请求正文\n",
    "请求正文中的JSON字段：\n",
    "- faceId\n",
    "- faceListId\n",
    "- faceIds"
   ]
  },
  {
   "cell_type": "code",
   "execution_count": 213,
   "metadata": {},
   "outputs": [
    {
     "data": {
      "text/plain": [
       "b'[{\"persistedFaceId\":\"38ac7047-bba2-40fe-9255-0f0d63ccdeb8\",\"confidence\":1.0},{\"persistedFaceId\":\"2b5efac6-5145-4829-bad8-91f14a1f4ef6\",\"confidence\":0.42205},{\"persistedFaceId\":\"764311c2-bae3-4c6b-aa5f-dde18e82aacd\",\"confidence\":0.1738},{\"persistedFaceId\":\"f796b652-937d-4fae-9317-c0256f932a6e\",\"confidence\":0.10742},{\"persistedFaceId\":\"2a60d498-82bc-4039-a3df-c56349d596ff\",\"confidence\":0.10151},{\"persistedFaceId\":\"e3636064-8e94-4591-a2fd-ae2c887acf23\",\"confidence\":0.10127},{\"persistedFaceId\":\"0f29f506-92b1-4868-8c82-4ad4b24b63bb\",\"confidence\":0.10017},{\"persistedFaceId\":\"ced4374c-aa2d-4d82-aa9d-05ec3e86c580\",\"confidence\":0.0996},{\"persistedFaceId\":\"017d45c9-429e-45f4-82f2-c19bf76fd0c6\",\"confidence\":0.09854},{\"persistedFaceId\":\"cbe38001-ff75-480b-a48e-5f9c46986e69\",\"confidence\":0.09736}]'"
      ]
     },
     "execution_count": 213,
     "metadata": {},
     "output_type": "execute_result"
    }
   ],
   "source": [
    "FIND_URL = \"https://dyiyigeface.cognitiveservices.azure.com/face/v1.0/findsimilars\"\n",
    "KEY = 'd7cf18bf66ee4b6e883012ace3ae5536'\n",
    "HEADERS = {\n",
    "    # Request headers\n",
    "    #'Content-Type': 'application/json',\n",
    "    'Ocp-Apim-Subscription-Key': '{}'.format(KEY), #''  \n",
    "}\n",
    "\n",
    "find_json = {\n",
    "    \"faceId\":LayZhangid,\n",
    "    \"faceListId\":\"yixinglist\",\n",
    "    \"maxNumOfCandidatesReturned\":10,\n",
    "    'recognitionModel': 'recognition_02',\n",
    "    \"mode\": \"matchFace\"\n",
    "    }\n",
    "\n",
    "findsimilar = requests.post(FIND_URL,headers=HEADERS,json=find_json)\n",
    "findsimilar.content"
   ]
  },
  {
   "cell_type": "markdown",
   "metadata": {},
   "source": [
    " 注意mode不要选择 matchPerson，matchPerson”是默认模式，它尝试通过使用内部 **同一个人阈值** 来查找 **同一个人** 的面孔。即，只会返回一个值。"
   ]
  },
  {
   "cell_type": "code",
   "execution_count": 214,
   "metadata": {},
   "outputs": [
    {
     "data": {
      "text/plain": [
       "[{'persistedFaceId': '38ac7047-bba2-40fe-9255-0f0d63ccdeb8',\n",
       "  'confidence': 1.0},\n",
       " {'persistedFaceId': '2b5efac6-5145-4829-bad8-91f14a1f4ef6',\n",
       "  'confidence': 0.42205},\n",
       " {'persistedFaceId': '764311c2-bae3-4c6b-aa5f-dde18e82aacd',\n",
       "  'confidence': 0.1738},\n",
       " {'persistedFaceId': 'f796b652-937d-4fae-9317-c0256f932a6e',\n",
       "  'confidence': 0.10742},\n",
       " {'persistedFaceId': '2a60d498-82bc-4039-a3df-c56349d596ff',\n",
       "  'confidence': 0.10151},\n",
       " {'persistedFaceId': 'e3636064-8e94-4591-a2fd-ae2c887acf23',\n",
       "  'confidence': 0.10127},\n",
       " {'persistedFaceId': '0f29f506-92b1-4868-8c82-4ad4b24b63bb',\n",
       "  'confidence': 0.10017},\n",
       " {'persistedFaceId': 'ced4374c-aa2d-4d82-aa9d-05ec3e86c580',\n",
       "  'confidence': 0.0996},\n",
       " {'persistedFaceId': '017d45c9-429e-45f4-82f2-c19bf76fd0c6',\n",
       "  'confidence': 0.09854},\n",
       " {'persistedFaceId': 'cbe38001-ff75-480b-a48e-5f9c46986e69',\n",
       "  'confidence': 0.09736}]"
      ]
     },
     "execution_count": 214,
     "metadata": {},
     "output_type": "execute_result"
    }
   ],
   "source": [
    "findsimilar.json()"
   ]
  },
  {
   "cell_type": "code",
   "execution_count": 220,
   "metadata": {},
   "outputs": [
    {
     "data": {
      "text/html": [
       "<div>\n",
       "<style scoped>\n",
       "    .dataframe tbody tr th:only-of-type {\n",
       "        vertical-align: middle;\n",
       "    }\n",
       "\n",
       "    .dataframe tbody tr th {\n",
       "        vertical-align: top;\n",
       "    }\n",
       "\n",
       "    .dataframe thead th {\n",
       "        text-align: right;\n",
       "    }\n",
       "</style>\n",
       "<table border=\"1\" class=\"dataframe\">\n",
       "  <thead>\n",
       "    <tr style=\"text-align: right;\">\n",
       "      <th></th>\n",
       "      <th>persistedFaceId</th>\n",
       "      <th>confidence</th>\n",
       "    </tr>\n",
       "  </thead>\n",
       "  <tbody>\n",
       "    <tr>\n",
       "      <td>0</td>\n",
       "      <td>38ac7047-bba2-40fe-9255-0f0d63ccdeb8</td>\n",
       "      <td>1.00000</td>\n",
       "    </tr>\n",
       "    <tr>\n",
       "      <td>1</td>\n",
       "      <td>2b5efac6-5145-4829-bad8-91f14a1f4ef6</td>\n",
       "      <td>0.42205</td>\n",
       "    </tr>\n",
       "    <tr>\n",
       "      <td>2</td>\n",
       "      <td>764311c2-bae3-4c6b-aa5f-dde18e82aacd</td>\n",
       "      <td>0.17380</td>\n",
       "    </tr>\n",
       "    <tr>\n",
       "      <td>3</td>\n",
       "      <td>f796b652-937d-4fae-9317-c0256f932a6e</td>\n",
       "      <td>0.10742</td>\n",
       "    </tr>\n",
       "    <tr>\n",
       "      <td>4</td>\n",
       "      <td>2a60d498-82bc-4039-a3df-c56349d596ff</td>\n",
       "      <td>0.10151</td>\n",
       "    </tr>\n",
       "    <tr>\n",
       "      <td>5</td>\n",
       "      <td>e3636064-8e94-4591-a2fd-ae2c887acf23</td>\n",
       "      <td>0.10127</td>\n",
       "    </tr>\n",
       "    <tr>\n",
       "      <td>6</td>\n",
       "      <td>0f29f506-92b1-4868-8c82-4ad4b24b63bb</td>\n",
       "      <td>0.10017</td>\n",
       "    </tr>\n",
       "    <tr>\n",
       "      <td>7</td>\n",
       "      <td>ced4374c-aa2d-4d82-aa9d-05ec3e86c580</td>\n",
       "      <td>0.09960</td>\n",
       "    </tr>\n",
       "    <tr>\n",
       "      <td>8</td>\n",
       "      <td>017d45c9-429e-45f4-82f2-c19bf76fd0c6</td>\n",
       "      <td>0.09854</td>\n",
       "    </tr>\n",
       "    <tr>\n",
       "      <td>9</td>\n",
       "      <td>cbe38001-ff75-480b-a48e-5f9c46986e69</td>\n",
       "      <td>0.09736</td>\n",
       "    </tr>\n",
       "  </tbody>\n",
       "</table>\n",
       "</div>"
      ],
      "text/plain": [
       "                        persistedFaceId  confidence\n",
       "0  38ac7047-bba2-40fe-9255-0f0d63ccdeb8     1.00000\n",
       "1  2b5efac6-5145-4829-bad8-91f14a1f4ef6     0.42205\n",
       "2  764311c2-bae3-4c6b-aa5f-dde18e82aacd     0.17380\n",
       "3  f796b652-937d-4fae-9317-c0256f932a6e     0.10742\n",
       "4  2a60d498-82bc-4039-a3df-c56349d596ff     0.10151\n",
       "5  e3636064-8e94-4591-a2fd-ae2c887acf23     0.10127\n",
       "6  0f29f506-92b1-4868-8c82-4ad4b24b63bb     0.10017\n",
       "7  ced4374c-aa2d-4d82-aa9d-05ec3e86c580     0.09960\n",
       "8  017d45c9-429e-45f4-82f2-c19bf76fd0c6     0.09854\n",
       "9  cbe38001-ff75-480b-a48e-5f9c46986e69     0.09736"
      ]
     },
     "execution_count": 220,
     "metadata": {},
     "output_type": "execute_result"
    }
   ],
   "source": [
    "df1 = pd.DataFrame(json_normalize(findsimilar.json()))\n",
    "df1"
   ]
  },
  {
   "cell_type": "code",
   "execution_count": 219,
   "metadata": {
    "scrolled": false
   },
   "outputs": [
    {
     "data": {
      "text/plain": [
       "[{'persistedFaceId': '38ac7047-bba2-40fe-9255-0f0d63ccdeb8',\n",
       "  'userData': 'first'},\n",
       " {'persistedFaceId': '3cf5ff00-4887-4460-b8d0-079b94879cc8',\n",
       "  'userData': '年轻的黄渤'},\n",
       " {'persistedFaceId': '2b5efac6-5145-4829-bad8-91f14a1f4ef6',\n",
       "  'userData': '方逸伦'},\n",
       " {'persistedFaceId': '764311c2-bae3-4c6b-aa5f-dde18e82aacd', 'userData': '胡歌'},\n",
       " {'persistedFaceId': '7c5a192f-3ac2-4027-8f71-0cef5bfa3c85',\n",
       "  'userData': '李荣浩老师'},\n",
       " {'persistedFaceId': 'f796b652-937d-4fae-9317-c0256f932a6e',\n",
       "  'userData': '任嘉伦'},\n",
       " {'persistedFaceId': 'cbe38001-ff75-480b-a48e-5f9c46986e69',\n",
       "  'userData': '王嘉尔'},\n",
       " {'persistedFaceId': '2a60d498-82bc-4039-a3df-c56349d596ff',\n",
       "  'userData': '罗志祥'},\n",
       " {'persistedFaceId': 'ced4374c-aa2d-4d82-aa9d-05ec3e86c580',\n",
       "  'userData': '王一博'},\n",
       " {'persistedFaceId': '0f29f506-92b1-4868-8c82-4ad4b24b63bb',\n",
       "  'userData': '年轻的胡歌'},\n",
       " {'persistedFaceId': 'e3636064-8e94-4591-a2fd-ae2c887acf23',\n",
       "  'userData': '年轻时的黄磊'},\n",
       " {'persistedFaceId': '017d45c9-429e-45f4-82f2-c19bf76fd0c6',\n",
       "  'userData': '李易峰'}]"
      ]
     },
     "execution_count": 219,
     "metadata": {},
     "output_type": "execute_result"
    }
   ],
   "source": [
    "BASE_URL = \"https://dyiyigeface.cognitiveservices.azure.com/face/v1.0/facelists/{faceListId}\"\n",
    "data = {\n",
    "       \"faceListId\":\"yixinglist\",\n",
    "   }# 由于是查看列表内容所以只完善baseurl里有的参数内容就可以了\n",
    "check_list = requests.get(BASE_URL,headers=HEADERS,params=data)\n",
    "check_list.content\n",
    "cyy = check_list.json()\n",
    "cyy\n",
    "real_result = cyy[\"persistedFaces\"]\n",
    "real_result"
   ]
  },
  {
   "cell_type": "code",
   "execution_count": 231,
   "metadata": {},
   "outputs": [
    {
     "data": {
      "text/html": [
       "<div>\n",
       "<style scoped>\n",
       "    .dataframe tbody tr th:only-of-type {\n",
       "        vertical-align: middle;\n",
       "    }\n",
       "\n",
       "    .dataframe tbody tr th {\n",
       "        vertical-align: top;\n",
       "    }\n",
       "\n",
       "    .dataframe thead th {\n",
       "        text-align: right;\n",
       "    }\n",
       "</style>\n",
       "<table border=\"1\" class=\"dataframe\">\n",
       "  <thead>\n",
       "    <tr style=\"text-align: right;\">\n",
       "      <th></th>\n",
       "      <th>persistedFaceId</th>\n",
       "      <th>userData</th>\n",
       "    </tr>\n",
       "  </thead>\n",
       "  <tbody>\n",
       "    <tr>\n",
       "      <td>0</td>\n",
       "      <td>38ac7047-bba2-40fe-9255-0f0d63ccdeb8</td>\n",
       "      <td>first</td>\n",
       "    </tr>\n",
       "    <tr>\n",
       "      <td>1</td>\n",
       "      <td>3cf5ff00-4887-4460-b8d0-079b94879cc8</td>\n",
       "      <td>年轻的黄渤</td>\n",
       "    </tr>\n",
       "    <tr>\n",
       "      <td>2</td>\n",
       "      <td>2b5efac6-5145-4829-bad8-91f14a1f4ef6</td>\n",
       "      <td>方逸伦</td>\n",
       "    </tr>\n",
       "    <tr>\n",
       "      <td>3</td>\n",
       "      <td>764311c2-bae3-4c6b-aa5f-dde18e82aacd</td>\n",
       "      <td>胡歌</td>\n",
       "    </tr>\n",
       "    <tr>\n",
       "      <td>4</td>\n",
       "      <td>7c5a192f-3ac2-4027-8f71-0cef5bfa3c85</td>\n",
       "      <td>李荣浩老师</td>\n",
       "    </tr>\n",
       "    <tr>\n",
       "      <td>5</td>\n",
       "      <td>f796b652-937d-4fae-9317-c0256f932a6e</td>\n",
       "      <td>任嘉伦</td>\n",
       "    </tr>\n",
       "    <tr>\n",
       "      <td>6</td>\n",
       "      <td>cbe38001-ff75-480b-a48e-5f9c46986e69</td>\n",
       "      <td>王嘉尔</td>\n",
       "    </tr>\n",
       "    <tr>\n",
       "      <td>7</td>\n",
       "      <td>2a60d498-82bc-4039-a3df-c56349d596ff</td>\n",
       "      <td>罗志祥</td>\n",
       "    </tr>\n",
       "    <tr>\n",
       "      <td>8</td>\n",
       "      <td>ced4374c-aa2d-4d82-aa9d-05ec3e86c580</td>\n",
       "      <td>王一博</td>\n",
       "    </tr>\n",
       "    <tr>\n",
       "      <td>9</td>\n",
       "      <td>0f29f506-92b1-4868-8c82-4ad4b24b63bb</td>\n",
       "      <td>年轻的胡歌</td>\n",
       "    </tr>\n",
       "    <tr>\n",
       "      <td>10</td>\n",
       "      <td>e3636064-8e94-4591-a2fd-ae2c887acf23</td>\n",
       "      <td>年轻时的黄磊</td>\n",
       "    </tr>\n",
       "    <tr>\n",
       "      <td>11</td>\n",
       "      <td>017d45c9-429e-45f4-82f2-c19bf76fd0c6</td>\n",
       "      <td>李易峰</td>\n",
       "    </tr>\n",
       "  </tbody>\n",
       "</table>\n",
       "</div>"
      ],
      "text/plain": [
       "                         persistedFaceId userData\n",
       "0   38ac7047-bba2-40fe-9255-0f0d63ccdeb8    first\n",
       "1   3cf5ff00-4887-4460-b8d0-079b94879cc8    年轻的黄渤\n",
       "2   2b5efac6-5145-4829-bad8-91f14a1f4ef6      方逸伦\n",
       "3   764311c2-bae3-4c6b-aa5f-dde18e82aacd       胡歌\n",
       "4   7c5a192f-3ac2-4027-8f71-0cef5bfa3c85    李荣浩老师\n",
       "5   f796b652-937d-4fae-9317-c0256f932a6e      任嘉伦\n",
       "6   cbe38001-ff75-480b-a48e-5f9c46986e69      王嘉尔\n",
       "7   2a60d498-82bc-4039-a3df-c56349d596ff      罗志祥\n",
       "8   ced4374c-aa2d-4d82-aa9d-05ec3e86c580      王一博\n",
       "9   0f29f506-92b1-4868-8c82-4ad4b24b63bb    年轻的胡歌\n",
       "10  e3636064-8e94-4591-a2fd-ae2c887acf23   年轻时的黄磊\n",
       "11  017d45c9-429e-45f4-82f2-c19bf76fd0c6      李易峰"
      ]
     },
     "execution_count": 231,
     "metadata": {},
     "output_type": "execute_result"
    }
   ],
   "source": [
    "df2 = pd.DataFrame(json_normalize(real_result))\n",
    "df2"
   ]
  },
  {
   "cell_type": "markdown",
   "metadata": {},
   "source": [
    "### 如何合并两个dataframe？\n",
    "pd.merge(left, right, how='inner', on=None, left_on=None, right_on=None,\n",
    "         left_index=False, right_index=False, sort=True,\n",
    "         suffixes=('_x', '_y'), copy=True, indicator=False)\n",
    "   - on︰ 要加入的列 （名称）。必须在左、 右综合对象中找到。如果不能通过left_index 和 right_index 是假，将推断 DataFrames 中的列的交叉点为连接键"
   ]
  },
  {
   "cell_type": "code",
   "execution_count": 234,
   "metadata": {},
   "outputs": [
    {
     "data": {
      "text/html": [
       "<div>\n",
       "<style scoped>\n",
       "    .dataframe tbody tr th:only-of-type {\n",
       "        vertical-align: middle;\n",
       "    }\n",
       "\n",
       "    .dataframe tbody tr th {\n",
       "        vertical-align: top;\n",
       "    }\n",
       "\n",
       "    .dataframe thead th {\n",
       "        text-align: right;\n",
       "    }\n",
       "</style>\n",
       "<table border=\"1\" class=\"dataframe\">\n",
       "  <thead>\n",
       "    <tr style=\"text-align: right;\">\n",
       "      <th></th>\n",
       "      <th>persistedFaceId</th>\n",
       "      <th>confidence</th>\n",
       "      <th>userData</th>\n",
       "    </tr>\n",
       "  </thead>\n",
       "  <tbody>\n",
       "    <tr>\n",
       "      <td>0</td>\n",
       "      <td>38ac7047-bba2-40fe-9255-0f0d63ccdeb8</td>\n",
       "      <td>1.00000</td>\n",
       "      <td>first</td>\n",
       "    </tr>\n",
       "    <tr>\n",
       "      <td>1</td>\n",
       "      <td>2b5efac6-5145-4829-bad8-91f14a1f4ef6</td>\n",
       "      <td>0.42205</td>\n",
       "      <td>方逸伦</td>\n",
       "    </tr>\n",
       "    <tr>\n",
       "      <td>2</td>\n",
       "      <td>764311c2-bae3-4c6b-aa5f-dde18e82aacd</td>\n",
       "      <td>0.17380</td>\n",
       "      <td>胡歌</td>\n",
       "    </tr>\n",
       "    <tr>\n",
       "      <td>3</td>\n",
       "      <td>f796b652-937d-4fae-9317-c0256f932a6e</td>\n",
       "      <td>0.10742</td>\n",
       "      <td>任嘉伦</td>\n",
       "    </tr>\n",
       "    <tr>\n",
       "      <td>4</td>\n",
       "      <td>2a60d498-82bc-4039-a3df-c56349d596ff</td>\n",
       "      <td>0.10151</td>\n",
       "      <td>罗志祥</td>\n",
       "    </tr>\n",
       "    <tr>\n",
       "      <td>5</td>\n",
       "      <td>e3636064-8e94-4591-a2fd-ae2c887acf23</td>\n",
       "      <td>0.10127</td>\n",
       "      <td>年轻时的黄磊</td>\n",
       "    </tr>\n",
       "    <tr>\n",
       "      <td>6</td>\n",
       "      <td>0f29f506-92b1-4868-8c82-4ad4b24b63bb</td>\n",
       "      <td>0.10017</td>\n",
       "      <td>年轻的胡歌</td>\n",
       "    </tr>\n",
       "    <tr>\n",
       "      <td>7</td>\n",
       "      <td>ced4374c-aa2d-4d82-aa9d-05ec3e86c580</td>\n",
       "      <td>0.09960</td>\n",
       "      <td>王一博</td>\n",
       "    </tr>\n",
       "    <tr>\n",
       "      <td>8</td>\n",
       "      <td>017d45c9-429e-45f4-82f2-c19bf76fd0c6</td>\n",
       "      <td>0.09854</td>\n",
       "      <td>李易峰</td>\n",
       "    </tr>\n",
       "    <tr>\n",
       "      <td>9</td>\n",
       "      <td>cbe38001-ff75-480b-a48e-5f9c46986e69</td>\n",
       "      <td>0.09736</td>\n",
       "      <td>王嘉尔</td>\n",
       "    </tr>\n",
       "  </tbody>\n",
       "</table>\n",
       "</div>"
      ],
      "text/plain": [
       "                        persistedFaceId  confidence userData\n",
       "0  38ac7047-bba2-40fe-9255-0f0d63ccdeb8     1.00000    first\n",
       "1  2b5efac6-5145-4829-bad8-91f14a1f4ef6     0.42205      方逸伦\n",
       "2  764311c2-bae3-4c6b-aa5f-dde18e82aacd     0.17380       胡歌\n",
       "3  f796b652-937d-4fae-9317-c0256f932a6e     0.10742      任嘉伦\n",
       "4  2a60d498-82bc-4039-a3df-c56349d596ff     0.10151      罗志祥\n",
       "5  e3636064-8e94-4591-a2fd-ae2c887acf23     0.10127   年轻时的黄磊\n",
       "6  0f29f506-92b1-4868-8c82-4ad4b24b63bb     0.10017    年轻的胡歌\n",
       "7  ced4374c-aa2d-4d82-aa9d-05ec3e86c580     0.09960      王一博\n",
       "8  017d45c9-429e-45f4-82f2-c19bf76fd0c6     0.09854      李易峰\n",
       "9  cbe38001-ff75-480b-a48e-5f9c46986e69     0.09736      王嘉尔"
      ]
     },
     "execution_count": 234,
     "metadata": {},
     "output_type": "execute_result"
    }
   ],
   "source": [
    "df = pd.merge(df1,df2,how='inner', on='persistedFaceId')\n",
    "df"
   ]
  }
 ],
 "metadata": {
  "kernelspec": {
   "display_name": "Python 3",
   "language": "python",
   "name": "python3"
  },
  "language_info": {
   "codemirror_mode": {
    "name": "ipython",
    "version": 3
   },
   "file_extension": ".py",
   "mimetype": "text/x-python",
   "name": "python",
   "nbconvert_exporter": "python",
   "pygments_lexer": "ipython3",
   "version": "3.7.4"
  }
 },
 "nbformat": 4,
 "nbformat_minor": 2
}
